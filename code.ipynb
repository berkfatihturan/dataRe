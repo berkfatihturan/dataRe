{
 "cells": [
  {
   "cell_type": "code",
   "execution_count": 4,
   "metadata": {
    "ExecuteTime": {
     "end_time": "2024-03-27T09:32:27.032322Z",
     "start_time": "2024-03-27T09:32:27.016577Z"
    }
   },
   "outputs": [],
   "source": [
    "# Gerekli olan kütüphaneleri import ediyorum\n",
    "import numpy as np\n",
    "import pandas as pd\n",
    "import re\n",
    "\n",
    "import matplotlib.pyplot as plt\n",
    "import seaborn as sns\n",
    "\n",
    "from sklearn.linear_model import LinearRegression\n",
    "from sklearn.svm import SVR\n",
    "from sklearn.neural_network import MLPRegressor\n",
    "from sklearn.ensemble import RandomForestRegressor\n",
    "from sklearn.metrics import mean_squared_error\n",
    "from sklearn.model_selection import train_test_split, cross_val_score, GridSearchCV\n",
    "from sklearn.preprocessing import MinMaxScaler\n",
    "from sklearn.svm import SVC\n",
    "from sklearn.preprocessing import LabelEncoder, OneHotEncoder\n",
    "from sklearn.linear_model import LogisticRegression\n",
    "from xgboost import XGBRegressor\n",
    "\n",
    "\n",
    "import joblib\n"
   ]
  },
  {
   "cell_type": "code",
   "execution_count": 5,
   "metadata": {
    "ExecuteTime": {
     "end_time": "2024-03-27T09:32:27.448399Z",
     "start_time": "2024-03-27T09:32:27.439026Z"
    }
   },
   "outputs": [],
   "source": [
    "# Bu bölümde veriyi inceliyorum sadece\n",
    "data_file_name = \"1-output-before.json\""
   ]
  },
  {
   "cell_type": "code",
   "execution_count": 6,
   "metadata": {
    "ExecuteTime": {
     "end_time": "2024-03-27T09:32:35.637943Z",
     "start_time": "2024-03-27T09:32:27.500493Z"
    }
   },
   "outputs": [],
   "source": [
    "# Veriyi data frame nesnesi olarak içeri aktarıyoruz\n",
    "base_df = pd.read_json(data_file_name, encoding='utf-8')"
   ]
  },
  {
   "cell_type": "code",
   "execution_count": 7,
   "metadata": {
    "ExecuteTime": {
     "end_time": "2024-03-27T09:32:36.053418Z",
     "start_time": "2024-03-27T09:32:35.645826Z"
    }
   },
   "outputs": [
    {
     "name": "stdout",
     "output_type": "stream",
     "text": [
      "<class 'pandas.core.frame.DataFrame'>\n",
      "RangeIndex: 52658 entries, 0 to 52657\n",
      "Data columns (total 100 columns):\n",
      " #   Column                  Non-Null Count  Dtype  \n",
      "---  ------                  --------------  -----  \n",
      " 0   _id                     52658 non-null  object \n",
      " 1   İlan No                 52658 non-null  int64  \n",
      " 2   İlan Tarihi             52658 non-null  object \n",
      " 3   Marka                   52107 non-null  object \n",
      " 4   Seri                    51717 non-null  object \n",
      " 5   Model                   49659 non-null  object \n",
      " 6   Yıl                     52658 non-null  int64  \n",
      " 7   Kilometre               51508 non-null  object \n",
      " 8   Vites Tipi              51671 non-null  object \n",
      " 9   Yakıt Tipi              51665 non-null  object \n",
      " 10  Kasa Tipi               48439 non-null  object \n",
      " 11  Renk                    49972 non-null  object \n",
      " 12  Motor Hacmi             49913 non-null  object \n",
      " 13  Motor Gücü              50021 non-null  object \n",
      " 14  Çekiş                   44646 non-null  object \n",
      " 15  Boya-değişen            48098 non-null  object \n",
      " 16  Takasa Uygun            33501 non-null  object \n",
      " 17  Kimden                  52658 non-null  object \n",
      " 18  Fiyat                   52658 non-null  object \n",
      " 19  Description             52658 non-null  object \n",
      " 20  Sağ Arka Çamurluk       48073 non-null  float64\n",
      " 21  Arka Kaput              48073 non-null  float64\n",
      " 22  Sol Arka Çamurluk       48073 non-null  float64\n",
      " 23  Sağ Arka Kapı           48073 non-null  float64\n",
      " 24  Sağ Ön Kapı             48073 non-null  float64\n",
      " 25  Tavan                   48073 non-null  float64\n",
      " 26  Sol Arka Kapı           48073 non-null  float64\n",
      " 27  Sol Ön Kapı             48073 non-null  float64\n",
      " 28  Sağ Ön Çamurluk         48073 non-null  float64\n",
      " 29  Motor Kaputu            48073 non-null  float64\n",
      " 30  Sol Ön Çamurluk         48073 non-null  float64\n",
      " 31  Ön Tampon               48073 non-null  float64\n",
      " 32  Arka Tampon             48073 non-null  float64\n",
      " 33  Ort. Yakıt Tüketimi     37326 non-null  object \n",
      " 34  Yakıt Deposu            39752 non-null  object \n",
      " 35  Koltuk Sayısı           6333 non-null   object \n",
      " 36  Araç Cinsi (Ruhsat)     6002 non-null   object \n",
      " 37  Tavan Tipi              331 non-null    object \n",
      " 38  Aracın ilk sahibiyim    3386 non-null   object \n",
      " 39  Üst Yapı                1019 non-null   object \n",
      " 40  Taşıma Kapasitesi (Kg)  1019 non-null   object \n",
      " 41  Kabin                   1282 non-null   object \n",
      " 42  Lastik Durumu (%)       1811 non-null   object \n",
      " 43  Motosiklet Tipi         1481 non-null   object \n",
      " 44  Silindir Sayısı         1567 non-null   object \n",
      " 45  Soğutma                 1346 non-null   object \n",
      " 46  Zamanlama Tipi          1346 non-null   object \n",
      " 47  Plaka Uyruğu            1762 non-null   object \n",
      " 48  Motor Gücü (kW)         89 non-null     object \n",
      " 49  Motor Voltajı (V)       57 non-null     object \n",
      " 50  Sürüş Mesafesi (Km)     57 non-null     object \n",
      " 51  Hız (Km/h)              57 non-null     object \n",
      " 52  Durumu                  621 non-null    object \n",
      " 53  Tescil Durumu           88 non-null     object \n",
      " 54  Park Ücreti             88 non-null     object \n",
      " 55  Satış Durumu            88 non-null     object \n",
      " 56  Hasar Sebebi            88 non-null     object \n",
      " 57  Yatak Kapasitesi        105 non-null    object \n",
      " 58  Karavan Tipi            70 non-null     object \n",
      " 59  Araç Türü               133 non-null    object \n",
      " 60  Haftalık Fiyat          289 non-null    object \n",
      " 61  Aylık Fiyat             289 non-null    object \n",
      " 62  Ödeme Şekli             324 non-null    object \n",
      " 63  Depozit                 321 non-null    object \n",
      " 64  Kasko                   324 non-null    object \n",
      " 65  Araçla Birlikte         19 non-null     object \n",
      " 66  Araç Markası            11 non-null     object \n",
      " 67  Durağa Bağlı            10 non-null     object \n",
      " 68  Hisseli                 17 non-null     object \n",
      " 69  Traktör Tipi            242 non-null    object \n",
      " 70  Çalışma Saati           184 non-null    object \n",
      " 71  Yatak                   263 non-null    object \n",
      " 72  Dorse                   263 non-null    object \n",
      " 73  Aracın Markası          6 non-null      object \n",
      " 74  Plaka                   6 non-null      object \n",
      " 75  Güç Aktarma             46 non-null     object \n",
      " 76  Taşıma Kapasitesi       46 non-null     object \n",
      " 77  Fren                    46 non-null     object \n",
      " 78  Soğutma Sistemi         46 non-null     object \n",
      " 79  Batarya Voltajı (V)     32 non-null     object \n",
      " 80  Menzil                  32 non-null     object \n",
      " 81  Şarj Süresi             32 non-null     object \n",
      " 82  Pil Kapasitesi (kWh)    32 non-null     object \n",
      " 83  Vites Sayısı            18 non-null     object \n",
      " 84  Yakıt Hacmi (litre)     18 non-null     object \n",
      " 85  Yolcu Kapasitesi        21 non-null     float64\n",
      " 86  Koltuk Düzeni           18 non-null     object \n",
      " 87  Koltuk Arkası Ekran     18 non-null     object \n",
      " 88  Vinç Tipi               2 non-null      object \n",
      " 89  Dingil Sayısı           2 non-null      float64\n",
      " 90  Ekskavatör Tipi         6 non-null      object \n",
      " 91  Tonaj                   8 non-null      float64\n",
      " 92  Uzunluk (m)             255 non-null    object \n",
      " 93  Asansör Tipi            2 non-null      object \n",
      " 94  Hacim (m³)              1 non-null      float64\n",
      " 95  Göz Sayısı              1 non-null      float64\n",
      " 96  Şasi Tipi               1 non-null      object \n",
      " 97  Asansör Yüksekliği      1 non-null      object \n",
      " 98  Dikey Uzunluk           1 non-null      object \n",
      " 99  Yatay Uzunluk           1 non-null      object \n",
      "dtypes: float64(18), int64(2), object(80)\n",
      "memory usage: 40.2+ MB\n"
     ]
    }
   ],
   "source": [
    "# Veriye genel bir bakış atıyoruz.\n",
    "base_df.info()"
   ]
  },
  {
   "cell_type": "code",
   "execution_count": 8,
   "metadata": {
    "ExecuteTime": {
     "end_time": "2024-03-27T09:32:36.065960Z",
     "start_time": "2024-03-27T09:32:36.056076Z"
    }
   },
   "outputs": [],
   "source": [
    "def check_df(dataframe, head=5):\n",
    "    print('##################### Shape #####################')\n",
    "    print(dataframe.shape)\n",
    "    print('##################### Types #####################')\n",
    "    print(dataframe.dtypes)\n",
    "    print('##################### Head #####################')\n",
    "    print(dataframe.head(head))\n",
    "    print('##################### Tail #####################')\n",
    "    print(dataframe.tail(head))\n",
    "    print('##################### NA #####################')\n",
    "    print(dataframe.isnull().sum())\n",
    "    print('##################### Quantiles #####################')\n",
    "    print(dataframe.describe([0, 0.05, 0.50, 0.95, 0.99, 1]).T)"
   ]
  },
  {
   "cell_type": "code",
   "execution_count": 9,
   "metadata": {
    "ExecuteTime": {
     "end_time": "2024-03-27T09:32:36.593864Z",
     "start_time": "2024-03-27T09:32:36.077338Z"
    }
   },
   "outputs": [
    {
     "name": "stdout",
     "output_type": "stream",
     "text": [
      "##################### Shape #####################\n",
      "(52658, 100)\n",
      "##################### Types #####################\n",
      "_id                    object\n",
      "İlan No                 int64\n",
      "İlan Tarihi            object\n",
      "Marka                  object\n",
      "Seri                   object\n",
      "                       ...   \n",
      "Göz Sayısı            float64\n",
      "Şasi Tipi              object\n",
      "Asansör Yüksekliği     object\n",
      "Dikey Uzunluk          object\n",
      "Yatay Uzunluk          object\n",
      "Length: 100, dtype: object\n",
      "##################### Head #####################\n",
      "                                    _id   İlan No    İlan Tarihi       Marka  \\\n",
      "0  {'$oid': '6567cd925f379fc6cb264beb'}  23436256  28 Kasım 2023     Citroen   \n",
      "1  {'$oid': '6567cd9e5f379fc6cb264bec'}  23435957  28 Kasım 2023  Volkswagen   \n",
      "2  {'$oid': '6567cda95f379fc6cb264bed'}  23875932  27 Kasım 2023        Opel   \n",
      "3  {'$oid': '6567cdb45f379fc6cb264bee'}  23691797  27 Kasım 2023        Opel   \n",
      "4  {'$oid': '6567cdbe5f379fc6cb264bef'}  23507140  26 Kasım 2023        Ford   \n",
      "\n",
      "     Seri                   Model   Yıl   Kilometre     Vites Tipi  \\\n",
      "0      C4  1.2 PureTech Feel Bold  2023    6.084 km       Otomatik   \n",
      "1   Taigo          1.0 TSI R Line  2023    6.052 km  Yarı Otomatik   \n",
      "2   Astra     1.6 Essentia Konfor  2013   98.000 km            Düz   \n",
      "3   Combo       1.5 CDTI Elegance  2022   60.000 km            Düz   \n",
      "4  Fiesta             1.4 Comfort  2004  165.000 km       Otomatik   \n",
      "\n",
      "     Yakıt Tipi  ... Ekskavatör Tipi Tonaj Uzunluk (m) Asansör Tipi  \\\n",
      "0        Benzin  ...             NaN   NaN         NaN          NaN   \n",
      "1        Benzin  ...             NaN   NaN         NaN          NaN   \n",
      "2  LPG & Benzin  ...             NaN   NaN         NaN          NaN   \n",
      "3         Dizel  ...             NaN   NaN         NaN          NaN   \n",
      "4        Benzin  ...             NaN   NaN         NaN          NaN   \n",
      "\n",
      "  Hacim (m³) Göz Sayısı Şasi Tipi Asansör Yüksekliği Dikey Uzunluk  \\\n",
      "0        NaN        NaN       NaN                NaN           NaN   \n",
      "1        NaN        NaN       NaN                NaN           NaN   \n",
      "2        NaN        NaN       NaN                NaN           NaN   \n",
      "3        NaN        NaN       NaN                NaN           NaN   \n",
      "4        NaN        NaN       NaN                NaN           NaN   \n",
      "\n",
      "  Yatay Uzunluk  \n",
      "0           NaN  \n",
      "1           NaN  \n",
      "2           NaN  \n",
      "3           NaN  \n",
      "4           NaN  \n",
      "\n",
      "[5 rows x 100 columns]\n",
      "##################### Tail #####################\n",
      "                                        _id   İlan No    İlan Tarihi  \\\n",
      "52653  {'$oid': '658439256cfa877079a060f4'}  23867517  27 Kasım 2023   \n",
      "52654  {'$oid': '6584392f6cfa877079a060f5'}  23872041  27 Kasım 2023   \n",
      "52655  {'$oid': '658439396cfa877079a060f6'}  23871019  27 Kasım 2023   \n",
      "52656  {'$oid': '658439436cfa877079a060f7'}  23868081  27 Kasım 2023   \n",
      "52657  {'$oid': '6584394d6cfa877079a060f8'}  23871372  27 Kasım 2023   \n",
      "\n",
      "            Marka    Seri                                 Model   Yıl  \\\n",
      "52653        Fiat   Doblo  Doblo Combi 1.3 Multijet Premio Plus  2016   \n",
      "52654  Volkswagen    Golf                   1.2 TSi Comfortline  2015   \n",
      "52655       Honda   Civic                1.6 i-VTEC Eco Premium  2012   \n",
      "52656       Dacia  Dokker                      1.5 DCi Ambiance  2015   \n",
      "52657      Suzuki   Swift                               1.3 GLX  2000   \n",
      "\n",
      "        Kilometre Vites Tipi    Yakıt Tipi  ... Ekskavatör Tipi Tonaj  \\\n",
      "52653  149.000 km        Düz         Dizel  ...             NaN   NaN   \n",
      "52654  137.000 km        Düz        Benzin  ...             NaN   NaN   \n",
      "52655  250.000 km   Otomatik  LPG & Benzin  ...             NaN   NaN   \n",
      "52656  423.000 km        Düz         Dizel  ...             NaN   NaN   \n",
      "52657   97.000 km        Düz  LPG & Benzin  ...             NaN   NaN   \n",
      "\n",
      "      Uzunluk (m) Asansör Tipi Hacim (m³) Göz Sayısı Şasi Tipi  \\\n",
      "52653         NaN          NaN        NaN        NaN       NaN   \n",
      "52654         NaN          NaN        NaN        NaN       NaN   \n",
      "52655         NaN          NaN        NaN        NaN       NaN   \n",
      "52656         NaN          NaN        NaN        NaN       NaN   \n",
      "52657         NaN          NaN        NaN        NaN       NaN   \n",
      "\n",
      "      Asansör Yüksekliği Dikey Uzunluk Yatay Uzunluk  \n",
      "52653                NaN           NaN           NaN  \n",
      "52654                NaN           NaN           NaN  \n",
      "52655                NaN           NaN           NaN  \n",
      "52656                NaN           NaN           NaN  \n",
      "52657                NaN           NaN           NaN  \n",
      "\n",
      "[5 rows x 100 columns]\n",
      "##################### NA #####################\n",
      "_id                       0\n",
      "İlan No                   0\n",
      "İlan Tarihi               0\n",
      "Marka                   551\n",
      "Seri                    941\n",
      "                      ...  \n",
      "Göz Sayısı            52657\n",
      "Şasi Tipi             52657\n",
      "Asansör Yüksekliği    52657\n",
      "Dikey Uzunluk         52657\n",
      "Yatay Uzunluk         52657\n",
      "Length: 100, dtype: int64\n",
      "##################### Quantiles #####################\n",
      "                     count          mean            std        min         0%  \\\n",
      "İlan No            52658.0  2.352357e+07  828333.204323  7491762.0  7491762.0   \n",
      "Yıl                52658.0  2.009651e+03      55.278081        0.0        0.0   \n",
      "Sağ Arka Çamurluk  48073.0  2.316165e+00       1.793275        0.0        0.0   \n",
      "Arka Kaput         48073.0  2.383646e+00       1.850849        0.0        0.0   \n",
      "Sol Arka Çamurluk  48073.0  2.321053e+00       1.799928        0.0        0.0   \n",
      "Sağ Arka Kapı      48073.0  2.340066e+00       1.801544        0.0        0.0   \n",
      "Sağ Ön Kapı        48073.0  2.347118e+00       1.810953        0.0        0.0   \n",
      "Tavan              48073.0  2.402596e+00       1.925342        0.0        0.0   \n",
      "Sol Arka Kapı      48073.0  2.363884e+00       1.819485        0.0        0.0   \n",
      "Sol Ön Kapı        48073.0  2.362074e+00       1.814081        0.0        0.0   \n",
      "Sağ Ön Çamurluk    48073.0  2.356125e+00       1.763550        0.0        0.0   \n",
      "Motor Kaputu       48073.0  2.368918e+00       1.802419        0.0        0.0   \n",
      "Sol Ön Çamurluk    48073.0  2.358247e+00       1.767056        0.0        0.0   \n",
      "Ön Tampon          48073.0  2.519398e+00       1.843589        0.0        0.0   \n",
      "Arka Tampon        48073.0  2.496474e+00       1.850288        0.0        0.0   \n",
      "Yolcu Kapasitesi      21.0  3.652381e+01      12.890380        9.0        9.0   \n",
      "Dingil Sayısı          2.0  4.000000e+00       2.828427        2.0        2.0   \n",
      "Tonaj                  8.0  1.134062e+03    3178.329598        1.0        1.0   \n",
      "Hacim (m³)             1.0  3.500000e+01            NaN       35.0       35.0   \n",
      "Göz Sayısı             1.0  3.000000e+00            NaN        3.0        3.0   \n",
      "\n",
      "                            5%         50%         95%          99%  \\\n",
      "İlan No            22802231.00  23683211.5  23896768.6  23930620.14   \n",
      "Yıl                    1996.00      2012.0      2022.0      2023.00   \n",
      "Sağ Arka Çamurluk         0.00         3.0         4.0         4.00   \n",
      "Arka Kaput                0.00         4.0         4.0         4.00   \n",
      "Sol Arka Çamurluk         0.00         4.0         4.0         4.00   \n",
      "Sağ Arka Kapı             0.00         4.0         4.0         4.00   \n",
      "Sağ Ön Kapı               0.00         4.0         4.0         4.00   \n",
      "Tavan                     0.00         4.0         4.0         4.00   \n",
      "Sol Arka Kapı             0.00         4.0         4.0         4.00   \n",
      "Sol Ön Kapı               0.00         4.0         4.0         4.00   \n",
      "Sağ Ön Çamurluk           0.00         3.0         4.0         4.00   \n",
      "Motor Kaputu              0.00         3.0         4.0         4.00   \n",
      "Sol Ön Çamurluk           0.00         3.0         4.0         4.00   \n",
      "Ön Tampon                 0.00         4.0         4.0         4.00   \n",
      "Arka Tampon               0.00         4.0         4.0         4.00   \n",
      "Yolcu Kapasitesi          9.00        41.0        48.0        48.00   \n",
      "Dingil Sayısı             2.20         4.0         5.8         5.96   \n",
      "Tonaj                     1.35        11.0      5857.7      8371.54   \n",
      "Hacim (m³)               35.00        35.0        35.0        35.00   \n",
      "Göz Sayısı                3.00         3.0         3.0         3.00   \n",
      "\n",
      "                         100%         max  \n",
      "İlan No            23988022.0  23988022.0  \n",
      "Yıl                    2023.0      2023.0  \n",
      "Sağ Arka Çamurluk         4.0         4.0  \n",
      "Arka Kaput                4.0         4.0  \n",
      "Sol Arka Çamurluk         4.0         4.0  \n",
      "Sağ Arka Kapı             4.0         4.0  \n",
      "Sağ Ön Kapı               4.0         4.0  \n",
      "Tavan                     4.0         4.0  \n",
      "Sol Arka Kapı             4.0         4.0  \n",
      "Sol Ön Kapı               4.0         4.0  \n",
      "Sağ Ön Çamurluk           4.0         4.0  \n",
      "Motor Kaputu              4.0         4.0  \n",
      "Sol Ön Çamurluk           4.0         4.0  \n",
      "Ön Tampon                 4.0         4.0  \n",
      "Arka Tampon               4.0         4.0  \n",
      "Yolcu Kapasitesi         48.0        48.0  \n",
      "Dingil Sayısı             6.0         6.0  \n",
      "Tonaj                  9000.0      9000.0  \n",
      "Hacim (m³)               35.0        35.0  \n",
      "Göz Sayısı                3.0         3.0  \n"
     ]
    }
   ],
   "source": [
    "check_df(dataframe = base_df, head = 5)"
   ]
  },
  {
   "cell_type": "markdown",
   "metadata": {},
   "source": [
    "DATA CLEANING"
   ]
  },
  {
   "cell_type": "code",
   "execution_count": 10,
   "metadata": {
    "ExecuteTime": {
     "end_time": "2024-03-27T09:32:36.630442Z",
     "start_time": "2024-03-27T09:32:36.597143Z"
    }
   },
   "outputs": [],
   "source": [
    "# işimize yarayan verileri alıyoruz.\n",
    "needed_attributes = [\"Marka\",\"Seri\",\"Model\",\"Yıl\",\"Kilometre\",\"Yakıt Tipi\",\"Kasa Tipi\",\"Vites Tipi\",\"Motor Hacmi\",\"Motor Gücü\",\"Kimden\",\"Fiyat\"]\n",
    "useful_df = base_df[needed_attributes]"
   ]
  },
  {
   "cell_type": "code",
   "execution_count": 11,
   "metadata": {
    "ExecuteTime": {
     "end_time": "2024-03-27T09:32:36.778927Z",
     "start_time": "2024-03-27T09:32:36.633496Z"
    }
   },
   "outputs": [
    {
     "name": "stdout",
     "output_type": "stream",
     "text": [
      "<class 'pandas.core.frame.DataFrame'>\n",
      "RangeIndex: 52658 entries, 0 to 52657\n",
      "Data columns (total 12 columns):\n",
      " #   Column       Non-Null Count  Dtype \n",
      "---  ------       --------------  ----- \n",
      " 0   Marka        52107 non-null  object\n",
      " 1   Seri         51717 non-null  object\n",
      " 2   Model        49659 non-null  object\n",
      " 3   Yıl          52658 non-null  int64 \n",
      " 4   Kilometre    51508 non-null  object\n",
      " 5   Yakıt Tipi   51665 non-null  object\n",
      " 6   Kasa Tipi    48439 non-null  object\n",
      " 7   Vites Tipi   51671 non-null  object\n",
      " 8   Motor Hacmi  49913 non-null  object\n",
      " 9   Motor Gücü   50021 non-null  object\n",
      " 10  Kimden       52658 non-null  object\n",
      " 11  Fiyat        52658 non-null  object\n",
      "dtypes: int64(1), object(11)\n",
      "memory usage: 4.8+ MB\n"
     ]
    }
   ],
   "source": [
    "useful_df.info()"
   ]
  },
  {
   "cell_type": "code",
   "execution_count": 12,
   "metadata": {
    "ExecuteTime": {
     "end_time": "2024-03-27T09:32:37.011365Z",
     "start_time": "2024-03-27T09:32:36.782927Z"
    }
   },
   "outputs": [
    {
     "name": "stdout",
     "output_type": "stream",
     "text": [
      "<class 'pandas.core.frame.DataFrame'>\n",
      "RangeIndex: 46495 entries, 0 to 46494\n",
      "Data columns (total 12 columns):\n",
      " #   Column       Non-Null Count  Dtype \n",
      "---  ------       --------------  ----- \n",
      " 0   Marka        46495 non-null  object\n",
      " 1   Seri         46495 non-null  object\n",
      " 2   Model        46495 non-null  object\n",
      " 3   Yıl          46495 non-null  int64 \n",
      " 4   Kilometre    46495 non-null  object\n",
      " 5   Yakıt Tipi   46495 non-null  object\n",
      " 6   Kasa Tipi    46495 non-null  object\n",
      " 7   Vites Tipi   46495 non-null  object\n",
      " 8   Motor Hacmi  46495 non-null  object\n",
      " 9   Motor Gücü   46495 non-null  object\n",
      " 10  Kimden       46495 non-null  object\n",
      " 11  Fiyat        46495 non-null  object\n",
      "dtypes: int64(1), object(11)\n",
      "memory usage: 4.3+ MB\n"
     ]
    },
    {
     "name": "stderr",
     "output_type": "stream",
     "text": [
      "/var/folders/hp/d5nqk4nd0jbfjv8r943rc63r0000gn/T/ipykernel_48450/211067478.py:2: SettingWithCopyWarning: \n",
      "A value is trying to be set on a copy of a slice from a DataFrame\n",
      "\n",
      "See the caveats in the documentation: https://pandas.pydata.org/pandas-docs/stable/user_guide/indexing.html#returning-a-view-versus-a-copy\n",
      "  useful_df.dropna(inplace=True)\n"
     ]
    }
   ],
   "source": [
    "# Null değerlerİ siliyoruz.\n",
    "useful_df.dropna(inplace=True)\n",
    "useful_df.reset_index(drop=True, inplace=True)\n",
    "useful_df.info()"
   ]
  },
  {
   "cell_type": "markdown",
   "metadata": {},
   "source": [
    "Data Preprocessing"
   ]
  },
  {
   "cell_type": "code",
   "execution_count": 13,
   "metadata": {
    "ExecuteTime": {
     "end_time": "2024-03-27T09:32:37.025662Z",
     "start_time": "2024-03-27T09:32:37.015690Z"
    }
   },
   "outputs": [],
   "source": [
    "# Bu kısımda elimdeki verileri float yada int türüne dönüştürmem lazım. Kısaca encode kısmı\n",
    "# Kategorik sütunların encode edilmesi lazım.\n",
    "# string formatındaki sayılar int'e çevirilmeli ve normalize edilmeli.\n",
    "# Eğer çok fazla model varsa. Model sütunu drop edilebilir\n",
    "\n",
    "need_encode = [\"Marka\",\"Seri\",\"Model\",\"Yakıt Tipi\",\"Kasa Tipi\",\"Vites Tipi\",\"Kimden\"]"
   ]
  },
  {
   "cell_type": "code",
   "execution_count": 14,
   "metadata": {
    "ExecuteTime": {
     "end_time": "2024-03-27T09:32:37.189252Z",
     "start_time": "2024-03-27T09:32:37.027709Z"
    }
   },
   "outputs": [
    {
     "name": "stdout",
     "output_type": "stream",
     "text": [
      "Marka           68\n",
      "Seri           693\n",
      "Model         3932\n",
      "Yakıt Tipi       5\n",
      "Kasa Tipi       20\n",
      "Vites Tipi       3\n",
      "Kimden           3\n",
      "dtype: int64\n"
     ]
    },
    {
     "name": "stderr",
     "output_type": "stream",
     "text": [
      "/var/folders/hp/d5nqk4nd0jbfjv8r943rc63r0000gn/T/ipykernel_48450/687092981.py:9: SettingWithCopyWarning: \n",
      "A value is trying to be set on a copy of a slice from a DataFrame\n",
      "\n",
      "See the caveats in the documentation: https://pandas.pydata.org/pandas-docs/stable/user_guide/indexing.html#returning-a-view-versus-a-copy\n",
      "  useful_df.drop(axis=1,columns=[\"Model\",\"Seri\"], inplace=True)\n"
     ]
    }
   ],
   "source": [
    "# unique değerlerin sayısını hesaplıyoruz.\n",
    "number_of_unique = useful_df[need_encode].nunique()\n",
    "\n",
    "print(number_of_unique)\n",
    "\n",
    "# 3932 tane unique model ismi var. Bunu encode edemeyiz. Numaralandırmak mümkün ama bu sefer de model numaralara göre öğrenim gerçekleştiricek ve yanlış sonuç vericek\n",
    "# Model sütununu droplamamız aynı şekilde Seri sütunuda çok fazla unique değere sahip.\n",
    "\n",
    "useful_df.drop(axis=1,columns=[\"Model\",\"Seri\"], inplace=True)"
   ]
  },
  {
   "cell_type": "code",
   "execution_count": 15,
   "metadata": {
    "ExecuteTime": {
     "end_time": "2024-03-27T09:32:39.954458Z",
     "start_time": "2024-03-27T09:32:37.198428Z"
    }
   },
   "outputs": [
    {
     "data": {
      "text/plain": "<Figure size 1500x800 with 4 Axes>",
      "image/png": "[encoded data removed]"
     },
     "metadata": {},
     "output_type": "display_data"
    }
   ],
   "source": [
    "# One-hot encoding ile kategorik değişkenlerin sayısal formata dönüştürülmesi\n",
    "\n",
    "need_onehot = [\"Kimden\",\"Vites Tipi\",\"Yakıt Tipi\",\"Kasa Tipi\"]\n",
    "\n",
    "# Kategorik verilerin dağılımları\n",
    "# Malesef dengeli bir veri yok.\n",
    "plt.figure(figsize=(15, 8))\n",
    "\n",
    "for i in range(len(need_onehot)):\n",
    "    plt.subplot(4, 1, i+1)\n",
    "    sns.countplot(data=useful_df, x=need_onehot[i])\n",
    "    plt.title(need_onehot[i])\n",
    "plt.tight_layout()\n",
    "plt.show()"
   ]
  },
  {
   "cell_type": "code",
   "execution_count": 16,
   "metadata": {
    "ExecuteTime": {
     "end_time": "2024-03-27T09:32:40.069706Z",
     "start_time": "2024-03-27T09:32:39.957759Z"
    }
   },
   "outputs": [
    {
     "name": "stderr",
     "output_type": "stream",
     "text": [
      "/var/folders/hp/d5nqk4nd0jbfjv8r943rc63r0000gn/T/ipykernel_48450/2748794292.py:3: SettingWithCopyWarning: \n",
      "A value is trying to be set on a copy of a slice from a DataFrame.\n",
      "Try using .loc[row_indexer,col_indexer] = value instead\n",
      "\n",
      "See the caveats in the documentation: https://pandas.pydata.org/pandas-docs/stable/user_guide/indexing.html#returning-a-view-versus-a-copy\n",
      "  useful_df['Marka_encoded'] = label_encoder.fit_transform(useful_df['Marka'])\n",
      "/var/folders/hp/d5nqk4nd0jbfjv8r943rc63r0000gn/T/ipykernel_48450/2748794292.py:4: SettingWithCopyWarning: \n",
      "A value is trying to be set on a copy of a slice from a DataFrame\n",
      "\n",
      "See the caveats in the documentation: https://pandas.pydata.org/pandas-docs/stable/user_guide/indexing.html#returning-a-view-versus-a-copy\n",
      "  useful_df.drop(axis=1,columns=[\"Marka\"], inplace=True)\n"
     ]
    },
    {
     "data": {
      "text/plain": "    Yıl   Kilometre    Yakıt Tipi    Kasa Tipi Vites Tipi        Motor Hacmi  \\\n0  2023    6.084 km        Benzin  Hatchback/5   Otomatik  1200 cm3' e kadar   \n1  2013   98.000 km  LPG & Benzin  Hatchback/5        Düz            1598 cc   \n2  2022   60.000 km         Dizel    Panel Van        Düz           1499 cm3   \n3  2004  165.000 km        Benzin  Hatchback/5   Otomatik            1388 cc   \n4  1998  415.000 km  LPG & Benzin  Hatchback/5        Düz    1401 - 1600 cm3   \n\n     Motor Gücü     Kimden                    Fiyat  Marka_encoded  \n0  126 - 150 HP  Galeriden  1.269.750 TL\\n1.238.750             11  \n1        115 hp  Galeriden                  576.900             48  \n2        102 hp  Galeriden                  639.900             48  \n3         80 hp  Galeriden                  448.000             21  \n4  101 - 125 HP  Galeriden                  280.000             24  ",
      "text/html": "<div>\n<style scoped>\n    .dataframe tbody tr th:only-of-type {\n        vertical-align: middle;\n    }\n\n    .dataframe tbody tr th {\n        vertical-align: top;\n    }\n\n    .dataframe thead th {\n        text-align: right;\n    }\n</style>\n<table border=\"1\" class=\"dataframe\">\n  <thead>\n    <tr style=\"text-align: right;\">\n      <th></th>\n      <th>Yıl</th>\n      <th>Kilometre</th>\n      <th>Yakıt Tipi</th>\n      <th>Kasa Tipi</th>\n      <th>Vites Tipi</th>\n      <th>Motor Hacmi</th>\n      <th>Motor Gücü</th>\n      <th>Kimden</th>\n      <th>Fiyat</th>\n      <th>Marka_encoded</th>\n    </tr>\n  </thead>\n  <tbody>\n    <tr>\n      <th>0</th>\n      <td>2023</td>\n      <td>6.084 km</td>\n      <td>Benzin</td>\n      <td>Hatchback/5</td>\n      <td>Otomatik</td>\n      <td>1200 cm3' e kadar</td>\n      <td>126 - 150 HP</td>\n      <td>Galeriden</td>\n      <td>1.269.750 TL\\n1.238.750</td>\n      <td>11</td>\n    </tr>\n    <tr>\n      <th>1</th>\n      <td>2013</td>\n      <td>98.000 km</td>\n      <td>LPG &amp; Benzin</td>\n      <td>Hatchback/5</td>\n      <td>Düz</td>\n      <td>1598 cc</td>\n      <td>115 hp</td>\n      <td>Galeriden</td>\n      <td>576.900</td>\n      <td>48</td>\n    </tr>\n    <tr>\n      <th>2</th>\n      <td>2022</td>\n      <td>60.000 km</td>\n      <td>Dizel</td>\n      <td>Panel Van</td>\n      <td>Düz</td>\n      <td>1499 cm3</td>\n      <td>102 hp</td>\n      <td>Galeriden</td>\n      <td>639.900</td>\n      <td>48</td>\n    </tr>\n    <tr>\n      <th>3</th>\n      <td>2004</td>\n      <td>165.000 km</td>\n      <td>Benzin</td>\n      <td>Hatchback/5</td>\n      <td>Otomatik</td>\n      <td>1388 cc</td>\n      <td>80 hp</td>\n      <td>Galeriden</td>\n      <td>448.000</td>\n      <td>21</td>\n    </tr>\n    <tr>\n      <th>4</th>\n      <td>1998</td>\n      <td>415.000 km</td>\n      <td>LPG &amp; Benzin</td>\n      <td>Hatchback/5</td>\n      <td>Düz</td>\n      <td>1401 - 1600 cm3</td>\n      <td>101 - 125 HP</td>\n      <td>Galeriden</td>\n      <td>280.000</td>\n      <td>24</td>\n    </tr>\n  </tbody>\n</table>\n</div>"
     },
     "execution_count": 16,
     "metadata": {},
     "output_type": "execute_result"
    }
   ],
   "source": [
    "label_encoder = LabelEncoder()\n",
    "# 'Marka' sütununu label encoding işlemine tabi tutalım\n",
    "useful_df['Marka_encoded'] = label_encoder.fit_transform(useful_df['Marka'])\n",
    "useful_df.drop(axis=1,columns=[\"Marka\"], inplace=True)\n",
    "useful_df.head()"
   ]
  },
  {
   "cell_type": "code",
   "execution_count": 17,
   "metadata": {
    "ExecuteTime": {
     "end_time": "2024-03-27T09:32:40.341880Z",
     "start_time": "2024-03-27T09:32:40.072306Z"
    }
   },
   "outputs": [],
   "source": [
    "# Burada kategorik verileri encode ediyoruz\n",
    "\n",
    "# OneHotEncoder'ı tanımlayalım\n",
    "onehot_encoder_yakit = OneHotEncoder()\n",
    "onehot_encoder_kimden = OneHotEncoder()\n",
    "onehot_encoder_vites = OneHotEncoder()\n",
    "onehot_encoder_kasa = OneHotEncoder()\n",
    "\n",
    "# Her bir sütunu ayrı ayrı dönüştürelim\n",
    "yakit_tipi_encoded = onehot_encoder_yakit.fit_transform(useful_df[['Yakıt Tipi']])\n",
    "kimden_encoded = onehot_encoder_kimden.fit_transform(useful_df[['Kimden']])\n",
    "vites_tipi_encoded = onehot_encoder_vites.fit_transform(useful_df[['Vites Tipi']])\n",
    "kasa_tipi_encoded = onehot_encoder_kasa.fit_transform(useful_df[['Kasa Tipi']])\n",
    "\n",
    "\n",
    "# Dönüştürülmüş sütunları DataFrame'e ekleyelim\n",
    "yakit_tipi_encoded_df = pd.DataFrame(yakit_tipi_encoded.toarray(), columns=onehot_encoder_yakit.get_feature_names_out([\"Yakıt Tipi\"]))\n",
    "kimden_encoded_df = pd.DataFrame(kimden_encoded.toarray(), columns=onehot_encoder_kimden.get_feature_names_out([\"Kimden\"]))\n",
    "vites_tipi_encoded_df = pd.DataFrame(vites_tipi_encoded.toarray(), columns=onehot_encoder_vites.get_feature_names_out([\"Vites Tipi\"]))\n",
    "kasa_tipi_encoded_df = pd.DataFrame(kasa_tipi_encoded.toarray(), columns=onehot_encoder_kasa.get_feature_names_out([\"Kasa Tipi\"]))\n",
    "\n",
    "\n",
    "df_encoded_df = pd.concat([yakit_tipi_encoded_df, kimden_encoded_df, vites_tipi_encoded_df, kasa_tipi_encoded_df], axis=1)\n",
    "useful_df = pd.concat([useful_df, df_encoded_df], axis=1)"
   ]
  },
  {
   "cell_type": "code",
   "execution_count": 18,
   "metadata": {
    "ExecuteTime": {
     "end_time": "2024-03-27T09:32:40.476552Z",
     "start_time": "2024-03-27T09:32:40.345866Z"
    }
   },
   "outputs": [
    {
     "name": "stdout",
     "output_type": "stream",
     "text": [
      "<class 'pandas.core.frame.DataFrame'>\n",
      "RangeIndex: 46495 entries, 0 to 46494\n",
      "Data columns (total 37 columns):\n",
      " #   Column                         Non-Null Count  Dtype  \n",
      "---  ------                         --------------  -----  \n",
      " 0   Yıl                            46495 non-null  int64  \n",
      " 1   Kilometre                      46495 non-null  object \n",
      " 2   Motor Hacmi                    46495 non-null  object \n",
      " 3   Motor Gücü                     46495 non-null  object \n",
      " 4   Fiyat                          46495 non-null  object \n",
      " 5   Marka_encoded                  46495 non-null  int64  \n",
      " 6   Yakıt Tipi_Benzin              46495 non-null  float64\n",
      " 7   Yakıt Tipi_Dizel               46495 non-null  float64\n",
      " 8   Yakıt Tipi_Elektrik            46495 non-null  float64\n",
      " 9   Yakıt Tipi_Hibrit              46495 non-null  float64\n",
      " 10  Yakıt Tipi_LPG & Benzin        46495 non-null  float64\n",
      " 11  Kimden_Galeriden               46495 non-null  float64\n",
      " 12  Kimden_Sahibinden              46495 non-null  float64\n",
      " 13  Kimden_Yetkili Bayiden         46495 non-null  float64\n",
      " 14  Vites Tipi_Düz                 46495 non-null  float64\n",
      " 15  Vites Tipi_Otomatik            46495 non-null  float64\n",
      " 16  Vites Tipi_Yarı Otomatik       46495 non-null  float64\n",
      " 17  Kasa Tipi_-                    46495 non-null  float64\n",
      " 18  Kasa Tipi_Cabrio               46495 non-null  float64\n",
      " 19  Kasa Tipi_Camlı Van            46495 non-null  float64\n",
      " 20  Kasa Tipi_Coupe                46495 non-null  float64\n",
      " 21  Kasa Tipi_Crossover            46495 non-null  float64\n",
      " 22  Kasa Tipi_Frigorifik Panelvan  46495 non-null  float64\n",
      " 23  Kasa Tipi_Hard top             46495 non-null  float64\n",
      " 24  Kasa Tipi_Hatchback/3          46495 non-null  float64\n",
      " 25  Kasa Tipi_Hatchback/5          46495 non-null  float64\n",
      " 26  Kasa Tipi_MPV                  46495 non-null  float64\n",
      " 27  Kasa Tipi_Minibüs              46495 non-null  float64\n",
      " 28  Kasa Tipi_Panel Van            46495 non-null  float64\n",
      " 29  Kasa Tipi_Panelvan             46495 non-null  float64\n",
      " 30  Kasa Tipi_Pick-Up              46495 non-null  float64\n",
      " 31  Kasa Tipi_Pick-up              46495 non-null  float64\n",
      " 32  Kasa Tipi_Roadster             46495 non-null  float64\n",
      " 33  Kasa Tipi_SUV                  46495 non-null  float64\n",
      " 34  Kasa Tipi_Sedan                46495 non-null  float64\n",
      " 35  Kasa Tipi_Station wagon        46495 non-null  float64\n",
      " 36  Kasa Tipi_Yarım Camlı Van      46495 non-null  float64\n",
      "dtypes: float64(31), int64(2), object(4)\n",
      "memory usage: 13.1+ MB\n"
     ]
    }
   ],
   "source": [
    "useful_df.drop(axis=1,columns=[\"Kimden\",\"Vites Tipi\",\"Yakıt Tipi\",\"Kasa Tipi\"], inplace=True)\n",
    "useful_df.info()"
   ]
  },
  {
   "cell_type": "code",
   "execution_count": 19,
   "metadata": {
    "ExecuteTime": {
     "end_time": "2024-03-27T09:32:40.936553Z",
     "start_time": "2024-03-27T09:32:40.479630Z"
    }
   },
   "outputs": [],
   "source": [
    "# Burada Kilometre sütununu float değere çevirdik.\n",
    "useful_df['Kilometre'] = useful_df['Kilometre'].str.split().str[0]\n",
    "useful_df['Kilometre'] = useful_df['Kilometre'].str.replace('.', '')\n",
    "useful_df['Kilometre'] = useful_df['Kilometre'].astype(float)"
   ]
  },
  {
   "cell_type": "code",
   "execution_count": 20,
   "metadata": {
    "ExecuteTime": {
     "end_time": "2024-03-27T09:32:41.156398Z",
     "start_time": "2024-03-27T09:32:40.938417Z"
    }
   },
   "outputs": [],
   "source": [
    "# Burada Fiyat sütununu float değere çevirdik.\n",
    "useful_df['Fiyat'] = useful_df['Fiyat'].str.split().str[0]\n",
    "useful_df['Fiyat'] = useful_df['Fiyat'].str.replace('.', '')\n",
    "useful_df['Fiyat'] = useful_df['Fiyat'].astype(float)"
   ]
  },
  {
   "cell_type": "code",
   "execution_count": 21,
   "metadata": {
    "ExecuteTime": {
     "end_time": "2024-03-27T09:32:41.243109Z",
     "start_time": "2024-03-27T09:32:41.158546Z"
    }
   },
   "outputs": [],
   "source": [
    "# Motor Hacmi ve Motor Gücü sütunlarında arada \"-\" şeklinde veriler girilmiş. Bunlar verileri encode etmemi engelliyor. Sayıları az olduğu için drop ediyorum\n",
    "useful_df = useful_df.drop(useful_df[useful_df['Motor Hacmi'] == '-'].index)\n",
    "useful_df = useful_df.drop(useful_df[useful_df['Motor Gücü'] == '-'].index)"
   ]
  },
  {
   "cell_type": "code",
   "execution_count": 22,
   "metadata": {
    "ExecuteTime": {
     "end_time": "2024-03-27T09:32:41.671937Z",
     "start_time": "2024-03-27T09:32:41.249420Z"
    }
   },
   "outputs": [],
   "source": [
    "# Burada Motor Hacmi sütununu float değere çevirdik.\n",
    "useful_df['Motor Hacmi'] = useful_df['Motor Hacmi'].str.split().str[0]\n",
    "useful_df['Motor Hacmi'] = useful_df['Motor Hacmi'].str.replace('.', '')\n",
    "useful_df['Motor Hacmi'] = useful_df['Motor Hacmi'].astype(float)"
   ]
  },
  {
   "cell_type": "code",
   "execution_count": 23,
   "metadata": {
    "ExecuteTime": {
     "end_time": "2024-03-27T09:32:41.896115Z",
     "start_time": "2024-03-27T09:32:41.673749Z"
    }
   },
   "outputs": [],
   "source": [
    "# Burada Motor Gücü sütununu float değere çevirdik.\n",
    "useful_df['Motor Gücü'] = useful_df['Motor Gücü'].str.split().str[0]\n",
    "useful_df['Motor Gücü'] = useful_df['Motor Gücü'].str.replace('.', '')\n",
    "useful_df['Motor Gücü'] = useful_df['Motor Gücü'].astype(float)"
   ]
  },
  {
   "cell_type": "code",
   "execution_count": 24,
   "metadata": {
    "ExecuteTime": {
     "end_time": "2024-03-27T09:32:41.902535Z",
     "start_time": "2024-03-27T09:32:41.898296Z"
    }
   },
   "outputs": [],
   "source": [
    "# index numaralarını düzenledik\n",
    "useful_df.reset_index(drop=True, inplace=True)"
   ]
  },
  {
   "cell_type": "code",
   "execution_count": 25,
   "metadata": {
    "ExecuteTime": {
     "end_time": "2024-03-27T09:32:41.933600Z",
     "start_time": "2024-03-27T09:32:41.904817Z"
    }
   },
   "outputs": [
    {
     "name": "stdout",
     "output_type": "stream",
     "text": [
      "<class 'pandas.core.frame.DataFrame'>\n",
      "RangeIndex: 46316 entries, 0 to 46315\n",
      "Data columns (total 37 columns):\n",
      " #   Column                         Non-Null Count  Dtype  \n",
      "---  ------                         --------------  -----  \n",
      " 0   Yıl                            46316 non-null  int64  \n",
      " 1   Kilometre                      46316 non-null  float64\n",
      " 2   Motor Hacmi                    46316 non-null  float64\n",
      " 3   Motor Gücü                     46316 non-null  float64\n",
      " 4   Fiyat                          46316 non-null  float64\n",
      " 5   Marka_encoded                  46316 non-null  int64  \n",
      " 6   Yakıt Tipi_Benzin              46316 non-null  float64\n",
      " 7   Yakıt Tipi_Dizel               46316 non-null  float64\n",
      " 8   Yakıt Tipi_Elektrik            46316 non-null  float64\n",
      " 9   Yakıt Tipi_Hibrit              46316 non-null  float64\n",
      " 10  Yakıt Tipi_LPG & Benzin        46316 non-null  float64\n",
      " 11  Kimden_Galeriden               46316 non-null  float64\n",
      " 12  Kimden_Sahibinden              46316 non-null  float64\n",
      " 13  Kimden_Yetkili Bayiden         46316 non-null  float64\n",
      " 14  Vites Tipi_Düz                 46316 non-null  float64\n",
      " 15  Vites Tipi_Otomatik            46316 non-null  float64\n",
      " 16  Vites Tipi_Yarı Otomatik       46316 non-null  float64\n",
      " 17  Kasa Tipi_-                    46316 non-null  float64\n",
      " 18  Kasa Tipi_Cabrio               46316 non-null  float64\n",
      " 19  Kasa Tipi_Camlı Van            46316 non-null  float64\n",
      " 20  Kasa Tipi_Coupe                46316 non-null  float64\n",
      " 21  Kasa Tipi_Crossover            46316 non-null  float64\n",
      " 22  Kasa Tipi_Frigorifik Panelvan  46316 non-null  float64\n",
      " 23  Kasa Tipi_Hard top             46316 non-null  float64\n",
      " 24  Kasa Tipi_Hatchback/3          46316 non-null  float64\n",
      " 25  Kasa Tipi_Hatchback/5          46316 non-null  float64\n",
      " 26  Kasa Tipi_MPV                  46316 non-null  float64\n",
      " 27  Kasa Tipi_Minibüs              46316 non-null  float64\n",
      " 28  Kasa Tipi_Panel Van            46316 non-null  float64\n",
      " 29  Kasa Tipi_Panelvan             46316 non-null  float64\n",
      " 30  Kasa Tipi_Pick-Up              46316 non-null  float64\n",
      " 31  Kasa Tipi_Pick-up              46316 non-null  float64\n",
      " 32  Kasa Tipi_Roadster             46316 non-null  float64\n",
      " 33  Kasa Tipi_SUV                  46316 non-null  float64\n",
      " 34  Kasa Tipi_Sedan                46316 non-null  float64\n",
      " 35  Kasa Tipi_Station wagon        46316 non-null  float64\n",
      " 36  Kasa Tipi_Yarım Camlı Van      46316 non-null  float64\n",
      "dtypes: float64(35), int64(2)\n",
      "memory usage: 13.1 MB\n"
     ]
    }
   ],
   "source": [
    "# Artık elimizde tamamen sayısal değerlerden oluşan ve modele eğitim için vermeye hazır bir veri var.\n",
    "useful_df.info()"
   ]
  },
  {
   "cell_type": "code",
   "execution_count": 26,
   "metadata": {
    "ExecuteTime": {
     "end_time": "2024-03-27T09:32:43.658010Z",
     "start_time": "2024-03-27T09:32:41.935955Z"
    }
   },
   "outputs": [
    {
     "data": {
      "text/plain": "<Figure size 1200x800 with 1 Axes>",
      "image/png": "[encoded data removed]"
     },
     "metadata": {},
     "output_type": "display_data"
    }
   ],
   "source": [
    "# Verideki bazı sütunlar milyon değerine kadar çıkabiliyor. Bu yüzden outlier analizi yapılmalı ve değerler normalize edilmeli.\n",
    "plt.figure(figsize=(12, 8))\n",
    "plt.boxplot(useful_df)\n",
    "plt.title('Boxplot')\n",
    "plt.ylabel('Değer')\n",
    "plt.show()\n",
    "\n",
    "# 5. sütunda yani fiyatta outlier özellikler var. IQR Analizi ile temizleyebiliriz"
   ]
  },
  {
   "cell_type": "code",
   "outputs": [
    {
     "name": "stdout",
     "output_type": "stream",
     "text": [
      "Aykırı Değerler:\n",
      "57       2350000.0\n",
      "84       1650000.0\n",
      "91       1485750.0\n",
      "94       1375000.0\n",
      "149      1470000.0\n",
      "           ...    \n",
      "46224    2325000.0\n",
      "46226    2320000.0\n",
      "46257    1450000.0\n",
      "46258    2340000.0\n",
      "46259    2250000.0\n",
      "Name: Fiyat, Length: 1870, dtype: float64\n"
     ]
    }
   ],
   "source": [
    "# Çeyreklerin hesaplanması\n",
    "Q1 = useful_df[\"Fiyat\"].quantile(0.25)\n",
    "Q3 = useful_df[\"Fiyat\"].quantile(0.75)\n",
    "\n",
    "# IQR'nin hesaplanması\n",
    "IQR = Q3 - Q1\n",
    "\n",
    "# Aykırı değerlerin tanımlanması\n",
    "lower_bound = Q1 - 1.5 * IQR\n",
    "upper_bound = Q3 + 1.5 * IQR\n",
    "\n",
    "# Aykırı değerlerin belirlenmesi\n",
    "outliers = useful_df[\"Fiyat\"][(useful_df[\"Fiyat\"] < lower_bound) | (useful_df[\"Fiyat\"] > upper_bound)]\n",
    "\n",
    "print(\"Aykırı Değerler:\")\n",
    "print(outliers)\n",
    "\n",
    "# Burada 2558 tane veri ıqr analizine göre outlier olarak sınıflandırılmış. Bunları drop edip etmemek size kalmış. Şimdilik drop edicem"
   ],
   "metadata": {
    "ExecuteTime": {
     "end_time": "2024-03-27T09:52:26.091079Z",
     "start_time": "2024-03-27T09:52:25.901410Z"
    }
   },
   "execution_count": 40
  },
  {
   "cell_type": "code",
   "outputs": [
    {
     "ename": "KeyError",
     "evalue": "'[(0, 16150), (0, 21613), (0, 21834), (2, 258), (2, 2567), (2, 4207), (2, 7046), (2, 7755), (2, 7835), (2, 8111), (2, 8673), (2, 11605), (2, 13432), (2, 13433), (2, 17704), (2, 18136), (2, 18882), (2, 21699), (2, 21702), (2, 26483), (2, 27964), (2, 28271), (2, 28394), (2, 28769), (2, 29791), (2, 32760), (2, 33692), (2, 38305), (2, 38527), (2, 38529), (2, 38615), (2, 38725), (2, 38732), (2, 38734), (2, 38767), (2, 38774), (2, 38776), (2, 38792), (2, 38808), (2, 38822), (2, 38837), (2, 38855), (2, 38878), (2, 38894), (2, 38895), (2, 38906), (2, 38923), (2, 40508), (2, 40569), (2, 40590), (2, 40596), (2, 40691), (2, 40693), (2, 40753), (2, 40848), (2, 40973), (2, 40987), (2, 41108), (2, 41138), (2, 41180), (2, 41220), (2, 42019), (2, 42196), (2, 42639), (2, 43095), (2, 46212), (2, 46216), (2, 46220), (4, 256), (4, 405), (4, 5384), (4, 5420), (4, 7249), (4, 7250), (4, 7265), (4, 11611), (4, 11612), (4, 11856), (4, 11859), (4, 11944), (4, 12459), (4, 14001), (4, 14278), (4, 14460), (4, 15805), (4, 19532), (4, 19533), (4, 21658), (4, 22096), (4, 26558), (4, 26824), (4, 26855), (4, 27774), (4, 28768), (4, 28774), (4, 29011), (4, 30452), (4, 30813), (4, 32798), (4, 32799), (4, 33128), (4, 33245), (4, 33812), (4, 34219), (4, 34289), (4, 37664), (4, 37725), (4, 38463), (4, 38469), (4, 38534), (4, 38665), (4, 38668), (4, 38674), (4, 38736), (4, 38761), (4, 38834), (4, 38904), (4, 39557), (4, 40472), (4, 40501), (4, 40511), (4, 40542), (4, 40570), (4, 40642), (4, 40695), (4, 40728), (4, 40754), (4, 40788), (4, 40810), (4, 40827), (4, 40830), (4, 40877), (4, 40890), (4, 40896), (4, 40897), (4, 40921), (4, 40941), (4, 40945), (4, 40946), (4, 40974), (4, 40988), (4, 41003), (4, 41035), (4, 41057), (4, 41184), (4, 41223), (4, 41274), (4, 42011), (4, 42016), (4, 42017), (4, 42020), (4, 42038), (4, 42050), (4, 42937), (4, 43084), (4, 43089), (4, 43091), (4, 43132), (4, 43186), (4, 43583), (4, 43877), (5, 38456), (5, 42184), (9, 1974), (9, 5989), (9, 8499), (9, 8837), (9, 13820), (9, 16433), (9, 16717), (9, 19230), (9, 19385), (9, 19539), (9, 20174), (9, 28982), (9, 38440), (9, 38902), (9, 38907), (9, 40214), (9, 40559), (9, 40594), (9, 40631), (9, 40749), (9, 40953), (9, 41989), (9, 44823), (11, 0), (11, 175), (11, 664), (11, 668), (11, 1543), (11, 2859), (11, 5293), (11, 5709), (11, 5755), (11, 6500), (11, 7134), (11, 7257), (11, 7359), (11, 7477), (11, 7867), (11, 8087), (11, 8088), (11, 8209), (11, 10057), (11, 11043), (11, 11796), (11, 11826), (11, 11949), (11, 12069), (11, 12196), (11, 13056), (11, 13089), (11, 14436), (11, 14518), (11, 14839), (11, 15967), (11, 17533), (11, 17546), (11, 17586), (11, 18113), (11, 18294), (11, 19038), (11, 19306), (11, 19392), (11, 19559), (11, 21802), (11, 21860), (11, 22162), (11, 22201), (11, 22758), (11, 22948), (11, 23791), (11, 24495), (11, 25725), (11, 25915), (11, 26607), (11, 26746), (11, 26902), (11, 27015), (11, 27079), (11, 28140), (11, 28238), (11, 28411), (11, 28441), (11, 28512), (11, 30276), (11, 30364), (11, 31010), (11, 32077), (11, 37140), (11, 38624), (11, 38678), (11, 38681), (11, 39562), (11, 40768), (11, 41076), (11, 41078), (11, 41508), (11, 41731), (11, 42208), (11, 42589), (11, 43021), (11, 43166), (11, 43949), (11, 44574), (11, 45258), (11, 45794), (11, 46031), (11, 46076), (13, 22400), (15, 4078), (15, 11696), (15, 14190), (15, 16481), (15, 19817), (15, 26370), (15, 26371), (15, 26588), (15, 29264), (15, 37797), (16, 36836), (18, 40582), (19, 42192), (20, 1183), (20, 4304), (20, 13575), (20, 14989), (20, 17689), (20, 19557), (20, 19981), (20, 25905), (20, 26827), (20, 26858), (20, 36873), (20, 39246), (20, 40122), (20, 40917), (20, 41367), (20, 43717), (20, 43943), (20, 45630), (21, 245), (21, 381), (21, 807), (21, 813), (21, 828), (21, 1280), (21, 1395), (21, 2783), (21, 2786), (21, 2835), (21, 3191), (21, 3984), (21, 4421), (21, 5247), (21, 5299), (21, 5329), (21, 5367), (21, 7171), (21, 7217), (21, 7342), (21, 7632), (21, 7913), (21, 8201), (21, 8586), (21, 9652), (21, 10210), (21, 11204), (21, 11694), (21, 11823), (21, 12729), (21, 12980), (21, 13711), (21, 13814), (21, 14213), (21, 14550), (21, 14724), (21, 15057), (21, 15382), (21, 16129), (21, 16130), (21, 16131), (21, 16136), (21, 16640), (21, 16829), (21, 17106), (21, 17108), (21, 17221), (21, 17316), (21, 17317), (21, 17356), (21, 17451), (21, 17465), (21, 17468), (21, 17553), (21, 18209), (21, 18248), (21, 18287), (21, 19820), (21, 19835), (21, 20161), (21, 20337), (21, 20676), (21, 21095), (21, 21565), (21, 21781), (21, 21849), (21, 21880), (21, 22019), (21, 22224), (21, 22233), (21, 22818), (21, 22851), (21, 23744), (21, 24729), (21, 25066), (21, 26407), (21, 26608), (21, 28373), (21, 29199), (21, 29382), (21, 30312), (21, 30326), (21, 30384), (21, 32564), (21, 32610), (21, 33144), (21, 35829), (21, 36082), (21, 37004), (21, 37263), (21, 37569), (21, 37575), (21, 37961), (21, 38037), (21, 38045), (21, 38206), (21, 38389), (21, 38540), (21, 38571), (21, 38743), (21, 39114), (21, 39475), (21, 39883), (21, 40253), (21, 40470), (21, 40575), (21, 40595), (21, 40696), (21, 40863), (21, 41118), (21, 41119), (21, 41586), (21, 42711), (21, 42926), (21, 42979), (21, 43314), (21, 43647), (21, 44556), (21, 44861), (21, 45708), (21, 46255), (24, 5641), (24, 7370), (24, 8405), (24, 8634), (24, 9637), (24, 11810), (24, 14481), (24, 15129), (24, 15130), (24, 15587), (24, 15808), (24, 16366), (24, 18135), (24, 21637), (24, 21676), (24, 22204), (24, 22715), (24, 25811), (24, 39811), (24, 40637), (24, 41142), (24, 41143), (24, 41207), (26, 295), (26, 467), (26, 1178), (26, 2795), (26, 3138), (26, 3563), (26, 4963), (26, 5045), (26, 5255), (26, 5292), (26, 5294), (26, 5296), (26, 5447), (26, 5818), (26, 5830), (26, 5896), (26, 6025), (26, 6429), (26, 6432), (26, 6762), (26, 7329), (26, 7946), (26, 8004), (26, 9875), (26, 10011), (26, 11488), (26, 11897), (26, 12202), (26, 12216), (26, 12519), (26, 12764), (26, 13426), (26, 14240), (26, 14259), (26, 14280), (26, 14423), (26, 16393), (26, 16569), (26, 17422), (26, 18137), (26, 18142), (26, 18291), (26, 18426), (26, 18471), (26, 19027), (26, 19841), (26, 20638), (26, 21799), (26, 21810), (26, 22056), (26, 22356), (26, 22985), (26, 23788), (26, 25073), (26, 25934), (26, 26473), (26, 26646), (26, 26686), (26, 27064), (26, 27518), (26, 27983), (26, 28390), (26, 29480), (26, 30104), (26, 30855), (26, 30972), (26, 32322), (26, 32576), (26, 33026), (26, 33229), (26, 33779), (26, 33810), (26, 33996), (26, 34469), (26, 34928), (26, 34958), (26, 35016), (26, 36768), (26, 37198), (26, 37209), (26, 37475), (26, 37476), (26, 37815), (26, 38324), (26, 38654), (26, 38992), (26, 39501), (26, 40157), (26, 40390), (26, 41951), (26, 42049), (26, 42287), (26, 42383), (26, 42638), (26, 42695), (26, 42821), (26, 42862), (26, 42866), (26, 42869), (26, 42873), (26, 44001), (26, 44087), (26, 44669), (26, 45325), (26, 45369), (26, 45781), (28, 12917), (29, 16931), (29, 17430), (29, 25912), (29, 26011), (29, 46128), (31, 40783), (32, 257), (32, 8640), (32, 16686), (32, 35365), (32, 37516), (32, 40892), (32, 40893), (32, 41221), (33, 6745), (33, 11747), (33, 19531), (33, 31698), (33, 32800), (33, 34100), (33, 38575), (33, 42664), (33, 43467), (33, 46017), (34, 3728), (34, 20320), (34, 21494), (34, 23624), (34, 26033), (34, 28794), (35, 40758), (36, 38724), (36, 38805), (37, 24773), (37, 38455), (37, 38646), (37, 38809), (37, 38838), (37, 38853), (37, 40938), (37, 41043), (37, 41140), (37, 42189), (37, 43102), (38, 40632), (39, 40817), (41, 38919), (43, 40935), (44, 4647), (44, 23351), (44, 42846), (45, 3165), (45, 3188), (45, 4305), (45, 6039), (45, 7263), (45, 11364), (45, 13450), (45, 15804), (45, 16231), (45, 16527), (45, 18145), (45, 20278), (45, 28773), (45, 32181), (45, 38047), (45, 38143), (45, 38449), (45, 38450), (45, 38451), (45, 38528), (45, 38530), (45, 38677), (45, 38683), (45, 38689), (45, 38722), (45, 38742), (45, 38766), (45, 38777), (45, 38780), (45, 38832), (45, 38833), (45, 38839), (45, 38840), (45, 38849), (45, 38866), (45, 38884), (45, 38909), (45, 39502), (45, 39756), (45, 40502), (45, 40557), (45, 40577), (45, 40597), (45, 40620), (45, 40623), (45, 40654), (45, 40655), (45, 40656), (45, 40657), (45, 40658), (45, 40659), (45, 40660), (45, 40694), (45, 40718), (45, 40732), (45, 40734), (45, 40752), (45, 40755), (45, 40760), (45, 40801), (45, 40802), (45, 40835), (45, 40836), (45, 40837), (45, 40838), (45, 40839), (45, 40866), (45, 40891), (45, 40904), (45, 40925), (45, 40934), (45, 40948), (45, 40951), (45, 40972), (45, 41011), (45, 41031), (45, 41038), (45, 41046), (45, 41111), (45, 41249), (45, 41279), (45, 41622), (45, 42003), (45, 42013), (45, 42051), (45, 42058), (45, 42101), (45, 42108), (45, 42115), (45, 42116), (45, 42117), (45, 42182), (45, 42185), (45, 42186), (45, 42194), (45, 42195), (45, 42197), (45, 42941), (45, 42996), (45, 43085), (45, 43087), (45, 43088), (45, 43098), (45, 43101), (45, 43103), (45, 43187), (45, 45313), (45, 45357), (45, 46223), (46, 9260), (46, 25995), (46, 26015), (46, 40939), (47, 1155), (47, 2102), (47, 13445), (47, 13462), (47, 13984), (47, 15357), (47, 19693), (47, 23174), (47, 24060), (47, 28145), (47, 30622), (47, 37173), (47, 40406), (47, 40437), (47, 40865), (47, 41736), (47, 42209), (47, 42841), (48, 56), (48, 879), (48, 1386), (48, 1387), (48, 1402), (48, 1500), (48, 1546), (48, 1566), (48, 2148), (48, 2492), (48, 4466), (48, 5093), (48, 5094), (48, 5095), (48, 5102), (48, 5121), (48, 5122), (48, 5123), (48, 5200), (48, 5647), (48, 7140), (48, 7279), (48, 9176), (48, 9690), (48, 11494), (48, 11906), (48, 12141), (48, 12532), (48, 13147), (48, 13444), (48, 14558), (48, 15292), (48, 15731), (48, 15762), (48, 15776), (48, 17683), (48, 18128), (48, 19099), (48, 20740), (48, 21719), (48, 21940), (48, 22401), (48, 22704), (48, 22750), (48, 22893), (48, 23984), (48, 26403), (48, 26552), (48, 26693), (48, 26872), (48, 28070), (48, 28156), (48, 28180), (48, 28528), (48, 30997), (48, 32434), (48, 33004), (48, 33780), (48, 33785), (48, 35879), (48, 36979), (48, 38157), (48, 38417), (48, 39867), (48, 40015), (48, 40239), (48, 40295), (48, 40464), (48, 41507), (48, 41697), (48, 41748), (48, 42198), (48, 42643), (48, 42739), (48, 43998), (48, 44460), (48, 44622), (48, 44697), (48, 45143), (48, 45495), (48, 45568), (48, 45719), (49, 109), (49, 309), (49, 318), (49, 379), (49, 507), (49, 591), (49, 604), (49, 900), (49, 1109), (49, 1547), (49, 2067), (49, 2363), (49, 2482), (49, 2518), (49, 3143), (49, 3338), (49, 3676), (49, 3997), (49, 4721), (49, 5087), (49, 5319), (49, 5347), (49, 5440), (49, 5587), (49, 5758), (49, 5792), (49, 5827), (49, 5953), (49, 6120), (49, 6295), (49, 6414), (49, 6560), (49, 6585), (49, 6587), (49, 6615), (49, 7255), (49, 7256), (49, 7406), (49, 7432), (49, 7629), (49, 7796), (49, 8256), (49, 8588), (49, 8853), (49, 9000), (49, 11642), (49, 11834), (49, 12392), (49, 12409), (49, 12713), (49, 12775), (49, 12887), (49, 13032), (49, 13041), (49, 13893), (49, 14416), (49, 14424), (49, 14426), (49, 14427), (49, 14491), (49, 14922), (49, 14928), (49, 15170), (49, 15489), (49, 15764), (49, 15986), (49, 16471), (49, 16503), (49, 16763), (49, 17248), (49, 17296), (49, 17302), (49, 17638), (49, 17713), (49, 17757), (49, 17896), (49, 17959), (49, 17971), (49, 18148), (49, 18250), (49, 18270), (49, 18337), (49, 18739), (49, 18880), (49, 18930), (49, 19216), (49, 19465), (49, 19594), (49, 19726), (49, 20228), (49, 20283), (49, 20784), (49, 21036), (49, 21091), (49, 21456), (49, 21500), (49, 21681), (49, 21780), (49, 21787), (49, 21801), (49, 21815), (49, 21875), (49, 21886), (49, 21889), (49, 22123), (49, 22146), (49, 22364), (49, 22418), (49, 22599), (49, 22620), (49, 22746), (49, 23260), (49, 23263), (49, 23519), (49, 23570), (49, 23631), (49, 24084), (49, 24303), (49, 24612), (49, 24631), (49, 24667), (49, 24989), (49, 25096), (49, 25338), (49, 25717), (49, 25876), (49, 26006), (49, 26130), (49, 26645), (49, 26659), (49, 27575), (49, 27759), (49, 27801), (49, 27874), (49, 28251), (49, 28403), (49, 28406), (49, 28551), (49, 28923), (49, 29217), (49, 29365), (49, 30078), (49, 30267), (49, 31123), (49, 31253), (49, 31753), (49, 31842), (49, 32278), (49, 33350), (49, 33444), (49, 33555), (49, 33669), (49, 33808), (49, 34364), (49, 35359), (49, 35423), (49, 35813), (49, 35872), (49, 36259), (49, 36484), (49, 37029), (49, 37250), (49, 37808), (49, 37835), (49, 38174), (49, 38180), (49, 38307), (49, 38526), (49, 38589), (49, 38812), (49, 38850), (49, 39118), (49, 39172), (49, 39196), (49, 39402), (49, 39429), (49, 39528), (49, 39602), (49, 39608), (49, 39872), (49, 39971), (49, 39981), (49, 40036), (49, 40280), (49, 40299), (49, 40327), (49, 40408), (49, 40439), (49, 40506), (49, 40613), (49, 40886), (49, 41028), (49, 41085), (49, 41192), (49, 41477), (49, 42160), (49, 42400), (49, 42411), (49, 42414), (49, 42621), (49, 42679), (49, 42702), (49, 42775), (49, 42787), (49, 42858), (49, 42870), (49, 42872), (49, 42906), (49, 43094), (49, 43506), (49, 43665), (49, 43713), (49, 43881), (49, 44195), (49, 44226), (49, 44400), (49, 44543), (49, 44631), (49, 44740), (49, 44820), (49, 44904), (49, 44974), (49, 45042), (49, 45043), (49, 45090), (49, 45160), (49, 45245), (49, 45257), (49, 45569), (49, 45757), (49, 45786), (49, 46062), (49, 46194), (49, 46250), (50, 38447), (50, 40759), (51, 37196), (52, 357), (52, 602), (52, 1422), (52, 2578), (52, 3201), (52, 3976), (52, 4330), (52, 5226), (52, 5779), (52, 5907), (52, 6193), (52, 7738), (52, 7800), (52, 8049), (52, 9249), (52, 9874), (52, 10750), (52, 12245), (52, 12253), (52, 12444), (52, 12585), (52, 12646), (52, 12727), (52, 12846), (52, 14955), (52, 14958), (52, 15280), (52, 15389), (52, 15753), (52, 16011), (52, 17952), (52, 18296), (52, 18510), (52, 18827), (52, 21275), (52, 21539), (52, 21655), (52, 21708), (52, 21710), (52, 22511), (52, 22590), (52, 22787), (52, 22788), (52, 22936), (52, 22942), (52, 22945), (52, 23192), (52, 23364), (52, 23953), (52, 24191), (52, 26000), (52, 26017), (52, 26272), (52, 26358), (52, 26361), (52, 26639), (52, 26640), (52, 26870), (52, 27012), (52, 27016), (52, 27953), (52, 28709), (52, 28910), (52, 29071), (52, 29103), (52, 29150), (52, 29418), (52, 29815), (52, 29818), (52, 31204), (52, 31332), (52, 32039), (52, 34819), (52, 36226), (52, 37088), (52, 37541), (52, 38721), (52, 38829), (52, 39681), (52, 39908), (52, 40038), (52, 40393), (52, 40484), (52, 41393), (52, 41453), (52, 41510), (52, 41680), (52, 41741), (52, 41839), (52, 41894), (52, 42290), (52, 42340), (52, 42627), (52, 42713), (52, 43371), (52, 43787), (52, 44097), (52, 44200), (52, 44274), (52, 44541), (52, 45398), (52, 45490), (52, 45698), (52, 46043), (52, 46111), (54, 633), (54, 16715), (55, 6116), (56, 6382), (56, 9665), (56, 14419), (56, 18970), (56, 36512), (56, 37564), (56, 38771), (56, 38846), (56, 43348), (56, 44930), (56, 45001), (57, 8745), (57, 13535), (57, 14211), (57, 14279), (57, 14417), (57, 21511), (57, 21982), (57, 27890), (57, 28423), (57, 28445), (57, 30262), (57, 34206), (57, 38692), (57, 42012), (61, 42082), (62, 14429), (64, 7588), (64, 8885), (64, 9994), (64, 10132), (64, 14008), (64, 15487), (64, 21023), (64, 21214), (64, 21467), (64, 25487), (64, 29729), (64, 34120), (64, 34438), (64, 41066), (64, 45862), (65, 1602), (65, 2059), (65, 2481), (65, 3391), (65, 3805), (65, 5932), (65, 7376), (65, 7917), (65, 9012), (65, 9753), (65, 10242), (65, 13588), (65, 13958), (65, 14332), (65, 14418), (65, 14425), (65, 15068), (65, 16283), (65, 16925), (65, 16932), (65, 17327), (65, 17706), (65, 17814), (65, 19390), (65, 19887), (65, 21659), (65, 21734), (65, 21791), (65, 21845), (65, 22092), (65, 22157), (65, 22279), (65, 22280), (65, 22324), (65, 22892), (65, 23159), (65, 25087), (65, 26024), (65, 28437), (65, 28781), (65, 30488), (65, 31814), (65, 32540), (65, 33368), (65, 33369), (65, 37687), (65, 38641), (65, 38676), (65, 38844), (65, 38901), (65, 38918), (65, 38956), (65, 39193), (65, 40621), (65, 40622), (65, 40669), (65, 40733), (65, 41562), (65, 42083), (65, 42938), (65, 43097), (65, 43099), (65, 43184), (65, 45604), (66, 33), (66, 41), (66, 185), (66, 260), (66, 648), (66, 973), (66, 1001), (66, 1404), (66, 2043), (66, 2773), (66, 2784), (66, 3177), (66, 3334), (66, 3481), (66, 3682), (66, 3769), (66, 4177), (66, 4221), (66, 4222), (66, 5152), (66, 5245), (66, 5287), (66, 5288), (66, 5418), (66, 5917), (66, 6130), (66, 6131), (66, 6283), (66, 6463), (66, 6493), (66, 6507), (66, 6604), (66, 6684), (66, 7259), (66, 7266), (66, 7415), (66, 7421), (66, 7597), (66, 7805), (66, 8394), (66, 8675), (66, 8781), (66, 9696), (66, 9718), (66, 10663), (66, 11050), (66, 11600), (66, 11604), (66, 11618), (66, 11631), (66, 11779), (66, 11809), (66, 11833), (66, 11842), (66, 11924), (66, 12689), (66, 12769), (66, 13299), (66, 13429), (66, 13828), (66, 14006), (66, 14329), (66, 14384), (66, 14414), (66, 14494), (66, 15096), (66, 15202), (66, 16805), (66, 16849), (66, 16930), (66, 16934), (66, 17434), (66, 17956), (66, 18140), (66, 18506), (66, 18599), (66, 19029), (66, 19832), (66, 19925), (66, 19941), (66, 19985), (66, 20223), (66, 20226), (66, 20231), (66, 20361), (66, 20362), (66, 20428), (66, 21150), (66, 21443), (66, 21522), (66, 21580), (66, 22406), (66, 22641), (66, 24194), (66, 24469), (66, 24520), (66, 24810), (66, 25136), (66, 25239), (66, 25585), (66, 25681), (66, 25734), (66, 25791), (66, 26658), (66, 26683), (66, 26729), (66, 27155), (66, 27167), (66, 27188), (66, 27209), (66, 27449), (66, 27811), (66, 27851), (66, 27852), (66, 28273), (66, 28439), (66, 28772), (66, 28777), (66, 29012), (66, 29197), (66, 29247), (66, 29419), (66, 29461), (66, 29523), (66, 29546), (66, 29563), (66, 29817), (66, 29937), (66, 29942), (66, 30097), (66, 30100), (66, 30624), (66, 30770), (66, 30956), (66, 31622), (66, 32207), (66, 32765), (66, 32801), (66, 32870), (66, 33362), (66, 33554), (66, 33720), (66, 33790), (66, 34267), (66, 35299), (66, 36097), (66, 36438), (66, 36717), (66, 36969), (66, 37440), (66, 37561), (66, 38257), (66, 38286), (66, 38423), (66, 38672), (66, 38811), (66, 38830), (66, 38831), (66, 38914), (66, 38924), (66, 38998), (66, 38999), (66, 39000), (66, 39001), (66, 39018), (66, 39019), (66, 39069), (66, 39070), (66, 39080), (66, 39553), (66, 39772), (66, 40923), (66, 41105), (66, 41117), (66, 41141), (66, 41151), (66, 41229), (66, 41463), (66, 41777), (66, 41984), (66, 42205), (66, 42300), (66, 42325), (66, 42677), (66, 42681), (66, 42833), (66, 42976), (66, 43100), (66, 43104), (66, 43526), (66, 43892), (66, 44435), (66, 44884), (66, 44945), (66, 45013), (66, 45642), (66, 46002), (66, 46214), (66, 46225), (67, 2614), (67, 3566), (67, 13455), (67, 15120), (67, 15168), (67, 17736), (67, 17888), (67, 18146), (67, 19510), (67, 21661), (67, 21662), (67, 21663), (67, 22106), (67, 22174), (67, 25587), (67, 28438), (67, 29792), (67, 30618), (67, 30623), (67, 30627), (67, 32586), (67, 32794), (67, 34357), (67, 38046), (67, 38472), (67, 38691), (67, 38775), (67, 38798), (67, 38835), (67, 39900), (67, 40418), (67, 40449), (67, 40467), (67, 40551), (67, 40645), (67, 40689), (67, 40751), (67, 40784), (67, 40846), (67, 40964), (67, 41001), (67, 42098), (67, 43106), (67, 46213)] not found in axis'",
     "output_type": "error",
     "traceback": [
      "\u001B[0;31m---------------------------------------------------------------------------\u001B[0m",
      "\u001B[0;31mKeyError\u001B[0m                                  Traceback (most recent call last)",
      "Cell \u001B[0;32mIn[39], line 1\u001B[0m\n\u001B[0;32m----> 1\u001B[0m ready_to_train \u001B[38;5;241m=\u001B[39m \u001B[43museful_df\u001B[49m\u001B[38;5;241;43m.\u001B[39;49m\u001B[43mdrop\u001B[49m\u001B[43m(\u001B[49m\u001B[43moutliers_by_model\u001B[49m\u001B[38;5;241;43m.\u001B[39;49m\u001B[43mindex\u001B[49m\u001B[43m)\u001B[49m\n\u001B[1;32m      2\u001B[0m ready_to_train\u001B[38;5;241m.\u001B[39mreset_index(drop\u001B[38;5;241m=\u001B[39m\u001B[38;5;28;01mTrue\u001B[39;00m, inplace\u001B[38;5;241m=\u001B[39m\u001B[38;5;28;01mTrue\u001B[39;00m)\n",
      "File \u001B[0;32m~/Desktop/bft/Projects/Python/dataRe/venv/lib/python3.9/site-packages/pandas/core/frame.py:5568\u001B[0m, in \u001B[0;36mDataFrame.drop\u001B[0;34m(self, labels, axis, index, columns, level, inplace, errors)\u001B[0m\n\u001B[1;32m   5420\u001B[0m \u001B[38;5;28;01mdef\u001B[39;00m \u001B[38;5;21mdrop\u001B[39m(\n\u001B[1;32m   5421\u001B[0m     \u001B[38;5;28mself\u001B[39m,\n\u001B[1;32m   5422\u001B[0m     labels: IndexLabel \u001B[38;5;241m|\u001B[39m \u001B[38;5;28;01mNone\u001B[39;00m \u001B[38;5;241m=\u001B[39m \u001B[38;5;28;01mNone\u001B[39;00m,\n\u001B[0;32m   (...)\u001B[0m\n\u001B[1;32m   5429\u001B[0m     errors: IgnoreRaise \u001B[38;5;241m=\u001B[39m \u001B[38;5;124m\"\u001B[39m\u001B[38;5;124mraise\u001B[39m\u001B[38;5;124m\"\u001B[39m,\n\u001B[1;32m   5430\u001B[0m ) \u001B[38;5;241m-\u001B[39m\u001B[38;5;241m>\u001B[39m DataFrame \u001B[38;5;241m|\u001B[39m \u001B[38;5;28;01mNone\u001B[39;00m:\n\u001B[1;32m   5431\u001B[0m \u001B[38;5;250m    \u001B[39m\u001B[38;5;124;03m\"\"\"\u001B[39;00m\n\u001B[1;32m   5432\u001B[0m \u001B[38;5;124;03m    Drop specified labels from rows or columns.\u001B[39;00m\n\u001B[1;32m   5433\u001B[0m \n\u001B[0;32m   (...)\u001B[0m\n\u001B[1;32m   5566\u001B[0m \u001B[38;5;124;03m            weight  1.0     0.8\u001B[39;00m\n\u001B[1;32m   5567\u001B[0m \u001B[38;5;124;03m    \"\"\"\u001B[39;00m\n\u001B[0;32m-> 5568\u001B[0m     \u001B[38;5;28;01mreturn\u001B[39;00m \u001B[38;5;28;43msuper\u001B[39;49m\u001B[43m(\u001B[49m\u001B[43m)\u001B[49m\u001B[38;5;241;43m.\u001B[39;49m\u001B[43mdrop\u001B[49m\u001B[43m(\u001B[49m\n\u001B[1;32m   5569\u001B[0m \u001B[43m        \u001B[49m\u001B[43mlabels\u001B[49m\u001B[38;5;241;43m=\u001B[39;49m\u001B[43mlabels\u001B[49m\u001B[43m,\u001B[49m\n\u001B[1;32m   5570\u001B[0m \u001B[43m        \u001B[49m\u001B[43maxis\u001B[49m\u001B[38;5;241;43m=\u001B[39;49m\u001B[43maxis\u001B[49m\u001B[43m,\u001B[49m\n\u001B[1;32m   5571\u001B[0m \u001B[43m        \u001B[49m\u001B[43mindex\u001B[49m\u001B[38;5;241;43m=\u001B[39;49m\u001B[43mindex\u001B[49m\u001B[43m,\u001B[49m\n\u001B[1;32m   5572\u001B[0m \u001B[43m        \u001B[49m\u001B[43mcolumns\u001B[49m\u001B[38;5;241;43m=\u001B[39;49m\u001B[43mcolumns\u001B[49m\u001B[43m,\u001B[49m\n\u001B[1;32m   5573\u001B[0m \u001B[43m        \u001B[49m\u001B[43mlevel\u001B[49m\u001B[38;5;241;43m=\u001B[39;49m\u001B[43mlevel\u001B[49m\u001B[43m,\u001B[49m\n\u001B[1;32m   5574\u001B[0m \u001B[43m        \u001B[49m\u001B[43minplace\u001B[49m\u001B[38;5;241;43m=\u001B[39;49m\u001B[43minplace\u001B[49m\u001B[43m,\u001B[49m\n\u001B[1;32m   5575\u001B[0m \u001B[43m        \u001B[49m\u001B[43merrors\u001B[49m\u001B[38;5;241;43m=\u001B[39;49m\u001B[43merrors\u001B[49m\u001B[43m,\u001B[49m\n\u001B[1;32m   5576\u001B[0m \u001B[43m    \u001B[49m\u001B[43m)\u001B[49m\n",
      "File \u001B[0;32m~/Desktop/bft/Projects/Python/dataRe/venv/lib/python3.9/site-packages/pandas/core/generic.py:4785\u001B[0m, in \u001B[0;36mNDFrame.drop\u001B[0;34m(self, labels, axis, index, columns, level, inplace, errors)\u001B[0m\n\u001B[1;32m   4783\u001B[0m \u001B[38;5;28;01mfor\u001B[39;00m axis, labels \u001B[38;5;129;01min\u001B[39;00m axes\u001B[38;5;241m.\u001B[39mitems():\n\u001B[1;32m   4784\u001B[0m     \u001B[38;5;28;01mif\u001B[39;00m labels \u001B[38;5;129;01mis\u001B[39;00m \u001B[38;5;129;01mnot\u001B[39;00m \u001B[38;5;28;01mNone\u001B[39;00m:\n\u001B[0;32m-> 4785\u001B[0m         obj \u001B[38;5;241m=\u001B[39m \u001B[43mobj\u001B[49m\u001B[38;5;241;43m.\u001B[39;49m\u001B[43m_drop_axis\u001B[49m\u001B[43m(\u001B[49m\u001B[43mlabels\u001B[49m\u001B[43m,\u001B[49m\u001B[43m \u001B[49m\u001B[43maxis\u001B[49m\u001B[43m,\u001B[49m\u001B[43m \u001B[49m\u001B[43mlevel\u001B[49m\u001B[38;5;241;43m=\u001B[39;49m\u001B[43mlevel\u001B[49m\u001B[43m,\u001B[49m\u001B[43m \u001B[49m\u001B[43merrors\u001B[49m\u001B[38;5;241;43m=\u001B[39;49m\u001B[43merrors\u001B[49m\u001B[43m)\u001B[49m\n\u001B[1;32m   4787\u001B[0m \u001B[38;5;28;01mif\u001B[39;00m inplace:\n\u001B[1;32m   4788\u001B[0m     \u001B[38;5;28mself\u001B[39m\u001B[38;5;241m.\u001B[39m_update_inplace(obj)\n",
      "File \u001B[0;32m~/Desktop/bft/Projects/Python/dataRe/venv/lib/python3.9/site-packages/pandas/core/generic.py:4827\u001B[0m, in \u001B[0;36mNDFrame._drop_axis\u001B[0;34m(self, labels, axis, level, errors, only_slice)\u001B[0m\n\u001B[1;32m   4825\u001B[0m         new_axis \u001B[38;5;241m=\u001B[39m axis\u001B[38;5;241m.\u001B[39mdrop(labels, level\u001B[38;5;241m=\u001B[39mlevel, errors\u001B[38;5;241m=\u001B[39merrors)\n\u001B[1;32m   4826\u001B[0m     \u001B[38;5;28;01melse\u001B[39;00m:\n\u001B[0;32m-> 4827\u001B[0m         new_axis \u001B[38;5;241m=\u001B[39m \u001B[43maxis\u001B[49m\u001B[38;5;241;43m.\u001B[39;49m\u001B[43mdrop\u001B[49m\u001B[43m(\u001B[49m\u001B[43mlabels\u001B[49m\u001B[43m,\u001B[49m\u001B[43m \u001B[49m\u001B[43merrors\u001B[49m\u001B[38;5;241;43m=\u001B[39;49m\u001B[43merrors\u001B[49m\u001B[43m)\u001B[49m\n\u001B[1;32m   4828\u001B[0m     indexer \u001B[38;5;241m=\u001B[39m axis\u001B[38;5;241m.\u001B[39mget_indexer(new_axis)\n\u001B[1;32m   4830\u001B[0m \u001B[38;5;66;03m# Case for non-unique axis\u001B[39;00m\n\u001B[1;32m   4831\u001B[0m \u001B[38;5;28;01melse\u001B[39;00m:\n",
      "File \u001B[0;32m~/Desktop/bft/Projects/Python/dataRe/venv/lib/python3.9/site-packages/pandas/core/indexes/base.py:7070\u001B[0m, in \u001B[0;36mIndex.drop\u001B[0;34m(self, labels, errors)\u001B[0m\n\u001B[1;32m   7068\u001B[0m \u001B[38;5;28;01mif\u001B[39;00m mask\u001B[38;5;241m.\u001B[39many():\n\u001B[1;32m   7069\u001B[0m     \u001B[38;5;28;01mif\u001B[39;00m errors \u001B[38;5;241m!=\u001B[39m \u001B[38;5;124m\"\u001B[39m\u001B[38;5;124mignore\u001B[39m\u001B[38;5;124m\"\u001B[39m:\n\u001B[0;32m-> 7070\u001B[0m         \u001B[38;5;28;01mraise\u001B[39;00m \u001B[38;5;167;01mKeyError\u001B[39;00m(\u001B[38;5;124mf\u001B[39m\u001B[38;5;124m\"\u001B[39m\u001B[38;5;132;01m{\u001B[39;00mlabels[mask]\u001B[38;5;241m.\u001B[39mtolist()\u001B[38;5;132;01m}\u001B[39;00m\u001B[38;5;124m not found in axis\u001B[39m\u001B[38;5;124m\"\u001B[39m)\n\u001B[1;32m   7071\u001B[0m     indexer \u001B[38;5;241m=\u001B[39m indexer[\u001B[38;5;241m~\u001B[39mmask]\n\u001B[1;32m   7072\u001B[0m \u001B[38;5;28;01mreturn\u001B[39;00m \u001B[38;5;28mself\u001B[39m\u001B[38;5;241m.\u001B[39mdelete(indexer)\n",
      "\u001B[0;31mKeyError\u001B[0m: '[(0, 16150), (0, 21613), (0, 21834), (2, 258), (2, 2567), (2, 4207), (2, 7046), (2, 7755), (2, 7835), (2, 8111), (2, 8673), (2, 11605), (2, 13432), (2, 13433), (2, 17704), (2, 18136), (2, 18882), (2, 21699), (2, 21702), (2, 26483), (2, 27964), (2, 28271), (2, 28394), (2, 28769), (2, 29791), (2, 32760), (2, 33692), (2, 38305), (2, 38527), (2, 38529), (2, 38615), (2, 38725), (2, 38732), (2, 38734), (2, 38767), (2, 38774), (2, 38776), (2, 38792), (2, 38808), (2, 38822), (2, 38837), (2, 38855), (2, 38878), (2, 38894), (2, 38895), (2, 38906), (2, 38923), (2, 40508), (2, 40569), (2, 40590), (2, 40596), (2, 40691), (2, 40693), (2, 40753), (2, 40848), (2, 40973), (2, 40987), (2, 41108), (2, 41138), (2, 41180), (2, 41220), (2, 42019), (2, 42196), (2, 42639), (2, 43095), (2, 46212), (2, 46216), (2, 46220), (4, 256), (4, 405), (4, 5384), (4, 5420), (4, 7249), (4, 7250), (4, 7265), (4, 11611), (4, 11612), (4, 11856), (4, 11859), (4, 11944), (4, 12459), (4, 14001), (4, 14278), (4, 14460), (4, 15805), (4, 19532), (4, 19533), (4, 21658), (4, 22096), (4, 26558), (4, 26824), (4, 26855), (4, 27774), (4, 28768), (4, 28774), (4, 29011), (4, 30452), (4, 30813), (4, 32798), (4, 32799), (4, 33128), (4, 33245), (4, 33812), (4, 34219), (4, 34289), (4, 37664), (4, 37725), (4, 38463), (4, 38469), (4, 38534), (4, 38665), (4, 38668), (4, 38674), (4, 38736), (4, 38761), (4, 38834), (4, 38904), (4, 39557), (4, 40472), (4, 40501), (4, 40511), (4, 40542), (4, 40570), (4, 40642), (4, 40695), (4, 40728), (4, 40754), (4, 40788), (4, 40810), (4, 40827), (4, 40830), (4, 40877), (4, 40890), (4, 40896), (4, 40897), (4, 40921), (4, 40941), (4, 40945), (4, 40946), (4, 40974), (4, 40988), (4, 41003), (4, 41035), (4, 41057), (4, 41184), (4, 41223), (4, 41274), (4, 42011), (4, 42016), (4, 42017), (4, 42020), (4, 42038), (4, 42050), (4, 42937), (4, 43084), (4, 43089), (4, 43091), (4, 43132), (4, 43186), (4, 43583), (4, 43877), (5, 38456), (5, 42184), (9, 1974), (9, 5989), (9, 8499), (9, 8837), (9, 13820), (9, 16433), (9, 16717), (9, 19230), (9, 19385), (9, 19539), (9, 20174), (9, 28982), (9, 38440), (9, 38902), (9, 38907), (9, 40214), (9, 40559), (9, 40594), (9, 40631), (9, 40749), (9, 40953), (9, 41989), (9, 44823), (11, 0), (11, 175), (11, 664), (11, 668), (11, 1543), (11, 2859), (11, 5293), (11, 5709), (11, 5755), (11, 6500), (11, 7134), (11, 7257), (11, 7359), (11, 7477), (11, 7867), (11, 8087), (11, 8088), (11, 8209), (11, 10057), (11, 11043), (11, 11796), (11, 11826), (11, 11949), (11, 12069), (11, 12196), (11, 13056), (11, 13089), (11, 14436), (11, 14518), (11, 14839), (11, 15967), (11, 17533), (11, 17546), (11, 17586), (11, 18113), (11, 18294), (11, 19038), (11, 19306), (11, 19392), (11, 19559), (11, 21802), (11, 21860), (11, 22162), (11, 22201), (11, 22758), (11, 22948), (11, 23791), (11, 24495), (11, 25725), (11, 25915), (11, 26607), (11, 26746), (11, 26902), (11, 27015), (11, 27079), (11, 28140), (11, 28238), (11, 28411), (11, 28441), (11, 28512), (11, 30276), (11, 30364), (11, 31010), (11, 32077), (11, 37140), (11, 38624), (11, 38678), (11, 38681), (11, 39562), (11, 40768), (11, 41076), (11, 41078), (11, 41508), (11, 41731), (11, 42208), (11, 42589), (11, 43021), (11, 43166), (11, 43949), (11, 44574), (11, 45258), (11, 45794), (11, 46031), (11, 46076), (13, 22400), (15, 4078), (15, 11696), (15, 14190), (15, 16481), (15, 19817), (15, 26370), (15, 26371), (15, 26588), (15, 29264), (15, 37797), (16, 36836), (18, 40582), (19, 42192), (20, 1183), (20, 4304), (20, 13575), (20, 14989), (20, 17689), (20, 19557), (20, 19981), (20, 25905), (20, 26827), (20, 26858), (20, 36873), (20, 39246), (20, 40122), (20, 40917), (20, 41367), (20, 43717), (20, 43943), (20, 45630), (21, 245), (21, 381), (21, 807), (21, 813), (21, 828), (21, 1280), (21, 1395), (21, 2783), (21, 2786), (21, 2835), (21, 3191), (21, 3984), (21, 4421), (21, 5247), (21, 5299), (21, 5329), (21, 5367), (21, 7171), (21, 7217), (21, 7342), (21, 7632), (21, 7913), (21, 8201), (21, 8586), (21, 9652), (21, 10210), (21, 11204), (21, 11694), (21, 11823), (21, 12729), (21, 12980), (21, 13711), (21, 13814), (21, 14213), (21, 14550), (21, 14724), (21, 15057), (21, 15382), (21, 16129), (21, 16130), (21, 16131), (21, 16136), (21, 16640), (21, 16829), (21, 17106), (21, 17108), (21, 17221), (21, 17316), (21, 17317), (21, 17356), (21, 17451), (21, 17465), (21, 17468), (21, 17553), (21, 18209), (21, 18248), (21, 18287), (21, 19820), (21, 19835), (21, 20161), (21, 20337), (21, 20676), (21, 21095), (21, 21565), (21, 21781), (21, 21849), (21, 21880), (21, 22019), (21, 22224), (21, 22233), (21, 22818), (21, 22851), (21, 23744), (21, 24729), (21, 25066), (21, 26407), (21, 26608), (21, 28373), (21, 29199), (21, 29382), (21, 30312), (21, 30326), (21, 30384), (21, 32564), (21, 32610), (21, 33144), (21, 35829), (21, 36082), (21, 37004), (21, 37263), (21, 37569), (21, 37575), (21, 37961), (21, 38037), (21, 38045), (21, 38206), (21, 38389), (21, 38540), (21, 38571), (21, 38743), (21, 39114), (21, 39475), (21, 39883), (21, 40253), (21, 40470), (21, 40575), (21, 40595), (21, 40696), (21, 40863), (21, 41118), (21, 41119), (21, 41586), (21, 42711), (21, 42926), (21, 42979), (21, 43314), (21, 43647), (21, 44556), (21, 44861), (21, 45708), (21, 46255), (24, 5641), (24, 7370), (24, 8405), (24, 8634), (24, 9637), (24, 11810), (24, 14481), (24, 15129), (24, 15130), (24, 15587), (24, 15808), (24, 16366), (24, 18135), (24, 21637), (24, 21676), (24, 22204), (24, 22715), (24, 25811), (24, 39811), (24, 40637), (24, 41142), (24, 41143), (24, 41207), (26, 295), (26, 467), (26, 1178), (26, 2795), (26, 3138), (26, 3563), (26, 4963), (26, 5045), (26, 5255), (26, 5292), (26, 5294), (26, 5296), (26, 5447), (26, 5818), (26, 5830), (26, 5896), (26, 6025), (26, 6429), (26, 6432), (26, 6762), (26, 7329), (26, 7946), (26, 8004), (26, 9875), (26, 10011), (26, 11488), (26, 11897), (26, 12202), (26, 12216), (26, 12519), (26, 12764), (26, 13426), (26, 14240), (26, 14259), (26, 14280), (26, 14423), (26, 16393), (26, 16569), (26, 17422), (26, 18137), (26, 18142), (26, 18291), (26, 18426), (26, 18471), (26, 19027), (26, 19841), (26, 20638), (26, 21799), (26, 21810), (26, 22056), (26, 22356), (26, 22985), (26, 23788), (26, 25073), (26, 25934), (26, 26473), (26, 26646), (26, 26686), (26, 27064), (26, 27518), (26, 27983), (26, 28390), (26, 29480), (26, 30104), (26, 30855), (26, 30972), (26, 32322), (26, 32576), (26, 33026), (26, 33229), (26, 33779), (26, 33810), (26, 33996), (26, 34469), (26, 34928), (26, 34958), (26, 35016), (26, 36768), (26, 37198), (26, 37209), (26, 37475), (26, 37476), (26, 37815), (26, 38324), (26, 38654), (26, 38992), (26, 39501), (26, 40157), (26, 40390), (26, 41951), (26, 42049), (26, 42287), (26, 42383), (26, 42638), (26, 42695), (26, 42821), (26, 42862), (26, 42866), (26, 42869), (26, 42873), (26, 44001), (26, 44087), (26, 44669), (26, 45325), (26, 45369), (26, 45781), (28, 12917), (29, 16931), (29, 17430), (29, 25912), (29, 26011), (29, 46128), (31, 40783), (32, 257), (32, 8640), (32, 16686), (32, 35365), (32, 37516), (32, 40892), (32, 40893), (32, 41221), (33, 6745), (33, 11747), (33, 19531), (33, 31698), (33, 32800), (33, 34100), (33, 38575), (33, 42664), (33, 43467), (33, 46017), (34, 3728), (34, 20320), (34, 21494), (34, 23624), (34, 26033), (34, 28794), (35, 40758), (36, 38724), (36, 38805), (37, 24773), (37, 38455), (37, 38646), (37, 38809), (37, 38838), (37, 38853), (37, 40938), (37, 41043), (37, 41140), (37, 42189), (37, 43102), (38, 40632), (39, 40817), (41, 38919), (43, 40935), (44, 4647), (44, 23351), (44, 42846), (45, 3165), (45, 3188), (45, 4305), (45, 6039), (45, 7263), (45, 11364), (45, 13450), (45, 15804), (45, 16231), (45, 16527), (45, 18145), (45, 20278), (45, 28773), (45, 32181), (45, 38047), (45, 38143), (45, 38449), (45, 38450), (45, 38451), (45, 38528), (45, 38530), (45, 38677), (45, 38683), (45, 38689), (45, 38722), (45, 38742), (45, 38766), (45, 38777), (45, 38780), (45, 38832), (45, 38833), (45, 38839), (45, 38840), (45, 38849), (45, 38866), (45, 38884), (45, 38909), (45, 39502), (45, 39756), (45, 40502), (45, 40557), (45, 40577), (45, 40597), (45, 40620), (45, 40623), (45, 40654), (45, 40655), (45, 40656), (45, 40657), (45, 40658), (45, 40659), (45, 40660), (45, 40694), (45, 40718), (45, 40732), (45, 40734), (45, 40752), (45, 40755), (45, 40760), (45, 40801), (45, 40802), (45, 40835), (45, 40836), (45, 40837), (45, 40838), (45, 40839), (45, 40866), (45, 40891), (45, 40904), (45, 40925), (45, 40934), (45, 40948), (45, 40951), (45, 40972), (45, 41011), (45, 41031), (45, 41038), (45, 41046), (45, 41111), (45, 41249), (45, 41279), (45, 41622), (45, 42003), (45, 42013), (45, 42051), (45, 42058), (45, 42101), (45, 42108), (45, 42115), (45, 42116), (45, 42117), (45, 42182), (45, 42185), (45, 42186), (45, 42194), (45, 42195), (45, 42197), (45, 42941), (45, 42996), (45, 43085), (45, 43087), (45, 43088), (45, 43098), (45, 43101), (45, 43103), (45, 43187), (45, 45313), (45, 45357), (45, 46223), (46, 9260), (46, 25995), (46, 26015), (46, 40939), (47, 1155), (47, 2102), (47, 13445), (47, 13462), (47, 13984), (47, 15357), (47, 19693), (47, 23174), (47, 24060), (47, 28145), (47, 30622), (47, 37173), (47, 40406), (47, 40437), (47, 40865), (47, 41736), (47, 42209), (47, 42841), (48, 56), (48, 879), (48, 1386), (48, 1387), (48, 1402), (48, 1500), (48, 1546), (48, 1566), (48, 2148), (48, 2492), (48, 4466), (48, 5093), (48, 5094), (48, 5095), (48, 5102), (48, 5121), (48, 5122), (48, 5123), (48, 5200), (48, 5647), (48, 7140), (48, 7279), (48, 9176), (48, 9690), (48, 11494), (48, 11906), (48, 12141), (48, 12532), (48, 13147), (48, 13444), (48, 14558), (48, 15292), (48, 15731), (48, 15762), (48, 15776), (48, 17683), (48, 18128), (48, 19099), (48, 20740), (48, 21719), (48, 21940), (48, 22401), (48, 22704), (48, 22750), (48, 22893), (48, 23984), (48, 26403), (48, 26552), (48, 26693), (48, 26872), (48, 28070), (48, 28156), (48, 28180), (48, 28528), (48, 30997), (48, 32434), (48, 33004), (48, 33780), (48, 33785), (48, 35879), (48, 36979), (48, 38157), (48, 38417), (48, 39867), (48, 40015), (48, 40239), (48, 40295), (48, 40464), (48, 41507), (48, 41697), (48, 41748), (48, 42198), (48, 42643), (48, 42739), (48, 43998), (48, 44460), (48, 44622), (48, 44697), (48, 45143), (48, 45495), (48, 45568), (48, 45719), (49, 109), (49, 309), (49, 318), (49, 379), (49, 507), (49, 591), (49, 604), (49, 900), (49, 1109), (49, 1547), (49, 2067), (49, 2363), (49, 2482), (49, 2518), (49, 3143), (49, 3338), (49, 3676), (49, 3997), (49, 4721), (49, 5087), (49, 5319), (49, 5347), (49, 5440), (49, 5587), (49, 5758), (49, 5792), (49, 5827), (49, 5953), (49, 6120), (49, 6295), (49, 6414), (49, 6560), (49, 6585), (49, 6587), (49, 6615), (49, 7255), (49, 7256), (49, 7406), (49, 7432), (49, 7629), (49, 7796), (49, 8256), (49, 8588), (49, 8853), (49, 9000), (49, 11642), (49, 11834), (49, 12392), (49, 12409), (49, 12713), (49, 12775), (49, 12887), (49, 13032), (49, 13041), (49, 13893), (49, 14416), (49, 14424), (49, 14426), (49, 14427), (49, 14491), (49, 14922), (49, 14928), (49, 15170), (49, 15489), (49, 15764), (49, 15986), (49, 16471), (49, 16503), (49, 16763), (49, 17248), (49, 17296), (49, 17302), (49, 17638), (49, 17713), (49, 17757), (49, 17896), (49, 17959), (49, 17971), (49, 18148), (49, 18250), (49, 18270), (49, 18337), (49, 18739), (49, 18880), (49, 18930), (49, 19216), (49, 19465), (49, 19594), (49, 19726), (49, 20228), (49, 20283), (49, 20784), (49, 21036), (49, 21091), (49, 21456), (49, 21500), (49, 21681), (49, 21780), (49, 21787), (49, 21801), (49, 21815), (49, 21875), (49, 21886), (49, 21889), (49, 22123), (49, 22146), (49, 22364), (49, 22418), (49, 22599), (49, 22620), (49, 22746), (49, 23260), (49, 23263), (49, 23519), (49, 23570), (49, 23631), (49, 24084), (49, 24303), (49, 24612), (49, 24631), (49, 24667), (49, 24989), (49, 25096), (49, 25338), (49, 25717), (49, 25876), (49, 26006), (49, 26130), (49, 26645), (49, 26659), (49, 27575), (49, 27759), (49, 27801), (49, 27874), (49, 28251), (49, 28403), (49, 28406), (49, 28551), (49, 28923), (49, 29217), (49, 29365), (49, 30078), (49, 30267), (49, 31123), (49, 31253), (49, 31753), (49, 31842), (49, 32278), (49, 33350), (49, 33444), (49, 33555), (49, 33669), (49, 33808), (49, 34364), (49, 35359), (49, 35423), (49, 35813), (49, 35872), (49, 36259), (49, 36484), (49, 37029), (49, 37250), (49, 37808), (49, 37835), (49, 38174), (49, 38180), (49, 38307), (49, 38526), (49, 38589), (49, 38812), (49, 38850), (49, 39118), (49, 39172), (49, 39196), (49, 39402), (49, 39429), (49, 39528), (49, 39602), (49, 39608), (49, 39872), (49, 39971), (49, 39981), (49, 40036), (49, 40280), (49, 40299), (49, 40327), (49, 40408), (49, 40439), (49, 40506), (49, 40613), (49, 40886), (49, 41028), (49, 41085), (49, 41192), (49, 41477), (49, 42160), (49, 42400), (49, 42411), (49, 42414), (49, 42621), (49, 42679), (49, 42702), (49, 42775), (49, 42787), (49, 42858), (49, 42870), (49, 42872), (49, 42906), (49, 43094), (49, 43506), (49, 43665), (49, 43713), (49, 43881), (49, 44195), (49, 44226), (49, 44400), (49, 44543), (49, 44631), (49, 44740), (49, 44820), (49, 44904), (49, 44974), (49, 45042), (49, 45043), (49, 45090), (49, 45160), (49, 45245), (49, 45257), (49, 45569), (49, 45757), (49, 45786), (49, 46062), (49, 46194), (49, 46250), (50, 38447), (50, 40759), (51, 37196), (52, 357), (52, 602), (52, 1422), (52, 2578), (52, 3201), (52, 3976), (52, 4330), (52, 5226), (52, 5779), (52, 5907), (52, 6193), (52, 7738), (52, 7800), (52, 8049), (52, 9249), (52, 9874), (52, 10750), (52, 12245), (52, 12253), (52, 12444), (52, 12585), (52, 12646), (52, 12727), (52, 12846), (52, 14955), (52, 14958), (52, 15280), (52, 15389), (52, 15753), (52, 16011), (52, 17952), (52, 18296), (52, 18510), (52, 18827), (52, 21275), (52, 21539), (52, 21655), (52, 21708), (52, 21710), (52, 22511), (52, 22590), (52, 22787), (52, 22788), (52, 22936), (52, 22942), (52, 22945), (52, 23192), (52, 23364), (52, 23953), (52, 24191), (52, 26000), (52, 26017), (52, 26272), (52, 26358), (52, 26361), (52, 26639), (52, 26640), (52, 26870), (52, 27012), (52, 27016), (52, 27953), (52, 28709), (52, 28910), (52, 29071), (52, 29103), (52, 29150), (52, 29418), (52, 29815), (52, 29818), (52, 31204), (52, 31332), (52, 32039), (52, 34819), (52, 36226), (52, 37088), (52, 37541), (52, 38721), (52, 38829), (52, 39681), (52, 39908), (52, 40038), (52, 40393), (52, 40484), (52, 41393), (52, 41453), (52, 41510), (52, 41680), (52, 41741), (52, 41839), (52, 41894), (52, 42290), (52, 42340), (52, 42627), (52, 42713), (52, 43371), (52, 43787), (52, 44097), (52, 44200), (52, 44274), (52, 44541), (52, 45398), (52, 45490), (52, 45698), (52, 46043), (52, 46111), (54, 633), (54, 16715), (55, 6116), (56, 6382), (56, 9665), (56, 14419), (56, 18970), (56, 36512), (56, 37564), (56, 38771), (56, 38846), (56, 43348), (56, 44930), (56, 45001), (57, 8745), (57, 13535), (57, 14211), (57, 14279), (57, 14417), (57, 21511), (57, 21982), (57, 27890), (57, 28423), (57, 28445), (57, 30262), (57, 34206), (57, 38692), (57, 42012), (61, 42082), (62, 14429), (64, 7588), (64, 8885), (64, 9994), (64, 10132), (64, 14008), (64, 15487), (64, 21023), (64, 21214), (64, 21467), (64, 25487), (64, 29729), (64, 34120), (64, 34438), (64, 41066), (64, 45862), (65, 1602), (65, 2059), (65, 2481), (65, 3391), (65, 3805), (65, 5932), (65, 7376), (65, 7917), (65, 9012), (65, 9753), (65, 10242), (65, 13588), (65, 13958), (65, 14332), (65, 14418), (65, 14425), (65, 15068), (65, 16283), (65, 16925), (65, 16932), (65, 17327), (65, 17706), (65, 17814), (65, 19390), (65, 19887), (65, 21659), (65, 21734), (65, 21791), (65, 21845), (65, 22092), (65, 22157), (65, 22279), (65, 22280), (65, 22324), (65, 22892), (65, 23159), (65, 25087), (65, 26024), (65, 28437), (65, 28781), (65, 30488), (65, 31814), (65, 32540), (65, 33368), (65, 33369), (65, 37687), (65, 38641), (65, 38676), (65, 38844), (65, 38901), (65, 38918), (65, 38956), (65, 39193), (65, 40621), (65, 40622), (65, 40669), (65, 40733), (65, 41562), (65, 42083), (65, 42938), (65, 43097), (65, 43099), (65, 43184), (65, 45604), (66, 33), (66, 41), (66, 185), (66, 260), (66, 648), (66, 973), (66, 1001), (66, 1404), (66, 2043), (66, 2773), (66, 2784), (66, 3177), (66, 3334), (66, 3481), (66, 3682), (66, 3769), (66, 4177), (66, 4221), (66, 4222), (66, 5152), (66, 5245), (66, 5287), (66, 5288), (66, 5418), (66, 5917), (66, 6130), (66, 6131), (66, 6283), (66, 6463), (66, 6493), (66, 6507), (66, 6604), (66, 6684), (66, 7259), (66, 7266), (66, 7415), (66, 7421), (66, 7597), (66, 7805), (66, 8394), (66, 8675), (66, 8781), (66, 9696), (66, 9718), (66, 10663), (66, 11050), (66, 11600), (66, 11604), (66, 11618), (66, 11631), (66, 11779), (66, 11809), (66, 11833), (66, 11842), (66, 11924), (66, 12689), (66, 12769), (66, 13299), (66, 13429), (66, 13828), (66, 14006), (66, 14329), (66, 14384), (66, 14414), (66, 14494), (66, 15096), (66, 15202), (66, 16805), (66, 16849), (66, 16930), (66, 16934), (66, 17434), (66, 17956), (66, 18140), (66, 18506), (66, 18599), (66, 19029), (66, 19832), (66, 19925), (66, 19941), (66, 19985), (66, 20223), (66, 20226), (66, 20231), (66, 20361), (66, 20362), (66, 20428), (66, 21150), (66, 21443), (66, 21522), (66, 21580), (66, 22406), (66, 22641), (66, 24194), (66, 24469), (66, 24520), (66, 24810), (66, 25136), (66, 25239), (66, 25585), (66, 25681), (66, 25734), (66, 25791), (66, 26658), (66, 26683), (66, 26729), (66, 27155), (66, 27167), (66, 27188), (66, 27209), (66, 27449), (66, 27811), (66, 27851), (66, 27852), (66, 28273), (66, 28439), (66, 28772), (66, 28777), (66, 29012), (66, 29197), (66, 29247), (66, 29419), (66, 29461), (66, 29523), (66, 29546), (66, 29563), (66, 29817), (66, 29937), (66, 29942), (66, 30097), (66, 30100), (66, 30624), (66, 30770), (66, 30956), (66, 31622), (66, 32207), (66, 32765), (66, 32801), (66, 32870), (66, 33362), (66, 33554), (66, 33720), (66, 33790), (66, 34267), (66, 35299), (66, 36097), (66, 36438), (66, 36717), (66, 36969), (66, 37440), (66, 37561), (66, 38257), (66, 38286), (66, 38423), (66, 38672), (66, 38811), (66, 38830), (66, 38831), (66, 38914), (66, 38924), (66, 38998), (66, 38999), (66, 39000), (66, 39001), (66, 39018), (66, 39019), (66, 39069), (66, 39070), (66, 39080), (66, 39553), (66, 39772), (66, 40923), (66, 41105), (66, 41117), (66, 41141), (66, 41151), (66, 41229), (66, 41463), (66, 41777), (66, 41984), (66, 42205), (66, 42300), (66, 42325), (66, 42677), (66, 42681), (66, 42833), (66, 42976), (66, 43100), (66, 43104), (66, 43526), (66, 43892), (66, 44435), (66, 44884), (66, 44945), (66, 45013), (66, 45642), (66, 46002), (66, 46214), (66, 46225), (67, 2614), (67, 3566), (67, 13455), (67, 15120), (67, 15168), (67, 17736), (67, 17888), (67, 18146), (67, 19510), (67, 21661), (67, 21662), (67, 21663), (67, 22106), (67, 22174), (67, 25587), (67, 28438), (67, 29792), (67, 30618), (67, 30623), (67, 30627), (67, 32586), (67, 32794), (67, 34357), (67, 38046), (67, 38472), (67, 38691), (67, 38775), (67, 38798), (67, 38835), (67, 39900), (67, 40418), (67, 40449), (67, 40467), (67, 40551), (67, 40645), (67, 40689), (67, 40751), (67, 40784), (67, 40846), (67, 40964), (67, 41001), (67, 42098), (67, 43106), (67, 46213)] not found in axis'"
     ]
    }
   ],
   "source": [
    "ready_to_train = useful_df.drop(outliers.index)\n",
    "ready_to_train.reset_index(drop=True, inplace=True)"
   ],
   "metadata": {
    "ExecuteTime": {
     "end_time": "2024-03-27T09:41:00.443509Z",
     "start_time": "2024-03-27T09:40:59.364593Z"
    }
   },
   "execution_count": 39
  },
  {
   "cell_type": "markdown",
   "metadata": {},
   "source": [
    "Data Train Test Split"
   ]
  },
  {
   "cell_type": "code",
   "execution_count": 41,
   "metadata": {
    "ExecuteTime": {
     "end_time": "2024-03-27T09:55:44.625586Z",
     "start_time": "2024-03-27T09:55:44.473987Z"
    }
   },
   "outputs": [],
   "source": [
    "X = ready_to_train.drop(\"Fiyat\", axis = 1)\n",
    "y = ready_to_train[\"Fiyat\"]\n",
    "\n",
    "\n",
    "X_train, X_test, y_train, y_test = train_test_split(X,\n",
    "                                                    y,\n",
    "                                                    test_size = 0.2,\n",
    "                                                    random_state = 10\n",
    "                                                    )\n",
    "\n",
    "scaler_X_test = MinMaxScaler() # bu minmaxscaler işlemi sadece yapay sinir ağı eğitiminde kullanmak için var\n",
    "scaler_X_train = MinMaxScaler() # yapay sinir ağına vermek için verilerin normalize edilmiş versiyonunu saklıyorum\n",
    "\n",
    "scaled_X_test = pd.DataFrame(scaler_X_test.fit_transform(X_test), columns=X.columns)\n",
    "scaled_X_train = pd.DataFrame(scaler_X_train.fit_transform(X_train), columns=X.columns)\n"
   ]
  },
  {
   "cell_type": "markdown",
   "metadata": {},
   "source": [
    "Modeling Part"
   ]
  },
  {
   "cell_type": "code",
   "execution_count": 42,
   "metadata": {
    "ExecuteTime": {
     "end_time": "2024-03-27T09:55:49.948462Z",
     "start_time": "2024-03-27T09:55:49.746734Z"
    }
   },
   "outputs": [
    {
     "data": {
      "text/plain": "LinearRegression()",
      "text/html": "<style>#sk-container-id-4 {\n  /* Definition of color scheme common for light and dark mode */\n  --sklearn-color-text: black;\n  --sklearn-color-line: gray;\n  /* Definition of color scheme for unfitted estimators */\n  --sklearn-color-unfitted-level-0: #fff5e6;\n  --sklearn-color-unfitted-level-1: #f6e4d2;\n  --sklearn-color-unfitted-level-2: #ffe0b3;\n  --sklearn-color-unfitted-level-3: chocolate;\n  /* Definition of color scheme for fitted estimators */\n  --sklearn-color-fitted-level-0: #f0f8ff;\n  --sklearn-color-fitted-level-1: #d4ebff;\n  --sklearn-color-fitted-level-2: #b3dbfd;\n  --sklearn-color-fitted-level-3: cornflowerblue;\n\n  /* Specific color for light theme */\n  --sklearn-color-text-on-default-background: var(--sg-text-color, var(--theme-code-foreground, var(--jp-content-font-color1, black)));\n  --sklearn-color-background: var(--sg-background-color, var(--theme-background, var(--jp-layout-color0, white)));\n  --sklearn-color-border-box: var(--sg-text-color, var(--theme-code-foreground, var(--jp-content-font-color1, black)));\n  --sklearn-color-icon: #696969;\n\n  @media (prefers-color-scheme: dark) {\n    /* Redefinition of color scheme for dark theme */\n    --sklearn-color-text-on-default-background: var(--sg-text-color, var(--theme-code-foreground, var(--jp-content-font-color1, white)));\n    --sklearn-color-background: var(--sg-background-color, var(--theme-background, var(--jp-layout-color0, #111)));\n    --sklearn-color-border-box: var(--sg-text-color, var(--theme-code-foreground, var(--jp-content-font-color1, white)));\n    --sklearn-color-icon: #878787;\n  }\n}\n\n#sk-container-id-4 {\n  color: var(--sklearn-color-text);\n}\n\n#sk-container-id-4 pre {\n  padding: 0;\n}\n\n#sk-container-id-4 input.sk-hidden--visually {\n  border: 0;\n  clip: rect(1px 1px 1px 1px);\n  clip: rect(1px, 1px, 1px, 1px);\n  height: 1px;\n  margin: -1px;\n  overflow: hidden;\n  padding: 0;\n  position: absolute;\n  width: 1px;\n}\n\n#sk-container-id-4 div.sk-dashed-wrapped {\n  border: 1px dashed var(--sklearn-color-line);\n  margin: 0 0.4em 0.5em 0.4em;\n  box-sizing: border-box;\n  padding-bottom: 0.4em;\n  background-color: var(--sklearn-color-background);\n}\n\n#sk-container-id-4 div.sk-container {\n  /* jupyter's `normalize.less` sets `[hidden] { display: none; }`\n     but bootstrap.min.css set `[hidden] { display: none !important; }`\n     so we also need the `!important` here to be able to override the\n     default hidden behavior on the sphinx rendered scikit-learn.org.\n     See: https://github.com/scikit-learn/scikit-learn/issues/21755 */\n  display: inline-block !important;\n  position: relative;\n}\n\n#sk-container-id-4 div.sk-text-repr-fallback {\n  display: none;\n}\n\ndiv.sk-parallel-item,\ndiv.sk-serial,\ndiv.sk-item {\n  /* draw centered vertical line to link estimators */\n  background-image: linear-gradient(var(--sklearn-color-text-on-default-background), var(--sklearn-color-text-on-default-background));\n  background-size: 2px 100%;\n  background-repeat: no-repeat;\n  background-position: center center;\n}\n\n/* Parallel-specific style estimator block */\n\n#sk-container-id-4 div.sk-parallel-item::after {\n  content: \"\";\n  width: 100%;\n  border-bottom: 2px solid var(--sklearn-color-text-on-default-background);\n  flex-grow: 1;\n}\n\n#sk-container-id-4 div.sk-parallel {\n  display: flex;\n  align-items: stretch;\n  justify-content: center;\n  background-color: var(--sklearn-color-background);\n  position: relative;\n}\n\n#sk-container-id-4 div.sk-parallel-item {\n  display: flex;\n  flex-direction: column;\n}\n\n#sk-container-id-4 div.sk-parallel-item:first-child::after {\n  align-self: flex-end;\n  width: 50%;\n}\n\n#sk-container-id-4 div.sk-parallel-item:last-child::after {\n  align-self: flex-start;\n  width: 50%;\n}\n\n#sk-container-id-4 div.sk-parallel-item:only-child::after {\n  width: 0;\n}\n\n/* Serial-specific style estimator block */\n\n#sk-container-id-4 div.sk-serial {\n  display: flex;\n  flex-direction: column;\n  align-items: center;\n  background-color: var(--sklearn-color-background);\n  padding-right: 1em;\n  padding-left: 1em;\n}\n\n\n/* Toggleable style: style used for estimator/Pipeline/ColumnTransformer box that is\nclickable and can be expanded/collapsed.\n- Pipeline and ColumnTransformer use this feature and define the default style\n- Estimators will overwrite some part of the style using the `sk-estimator` class\n*/\n\n/* Pipeline and ColumnTransformer style (default) */\n\n#sk-container-id-4 div.sk-toggleable {\n  /* Default theme specific background. It is overwritten whether we have a\n  specific estimator or a Pipeline/ColumnTransformer */\n  background-color: var(--sklearn-color-background);\n}\n\n/* Toggleable label */\n#sk-container-id-4 label.sk-toggleable__label {\n  cursor: pointer;\n  display: block;\n  width: 100%;\n  margin-bottom: 0;\n  padding: 0.5em;\n  box-sizing: border-box;\n  text-align: center;\n}\n\n#sk-container-id-4 label.sk-toggleable__label-arrow:before {\n  /* Arrow on the left of the label */\n  content: \"▸\";\n  float: left;\n  margin-right: 0.25em;\n  color: var(--sklearn-color-icon);\n}\n\n#sk-container-id-4 label.sk-toggleable__label-arrow:hover:before {\n  color: var(--sklearn-color-text);\n}\n\n/* Toggleable content - dropdown */\n\n#sk-container-id-4 div.sk-toggleable__content {\n  max-height: 0;\n  max-width: 0;\n  overflow: hidden;\n  text-align: left;\n  /* unfitted */\n  background-color: var(--sklearn-color-unfitted-level-0);\n}\n\n#sk-container-id-4 div.sk-toggleable__content.fitted {\n  /* fitted */\n  background-color: var(--sklearn-color-fitted-level-0);\n}\n\n#sk-container-id-4 div.sk-toggleable__content pre {\n  margin: 0.2em;\n  border-radius: 0.25em;\n  color: var(--sklearn-color-text);\n  /* unfitted */\n  background-color: var(--sklearn-color-unfitted-level-0);\n}\n\n#sk-container-id-4 div.sk-toggleable__content.fitted pre {\n  /* unfitted */\n  background-color: var(--sklearn-color-fitted-level-0);\n}\n\n#sk-container-id-4 input.sk-toggleable__control:checked~div.sk-toggleable__content {\n  /* Expand drop-down */\n  max-height: 200px;\n  max-width: 100%;\n  overflow: auto;\n}\n\n#sk-container-id-4 input.sk-toggleable__control:checked~label.sk-toggleable__label-arrow:before {\n  content: \"▾\";\n}\n\n/* Pipeline/ColumnTransformer-specific style */\n\n#sk-container-id-4 div.sk-label input.sk-toggleable__control:checked~label.sk-toggleable__label {\n  color: var(--sklearn-color-text);\n  background-color: var(--sklearn-color-unfitted-level-2);\n}\n\n#sk-container-id-4 div.sk-label.fitted input.sk-toggleable__control:checked~label.sk-toggleable__label {\n  background-color: var(--sklearn-color-fitted-level-2);\n}\n\n/* Estimator-specific style */\n\n/* Colorize estimator box */\n#sk-container-id-4 div.sk-estimator input.sk-toggleable__control:checked~label.sk-toggleable__label {\n  /* unfitted */\n  background-color: var(--sklearn-color-unfitted-level-2);\n}\n\n#sk-container-id-4 div.sk-estimator.fitted input.sk-toggleable__control:checked~label.sk-toggleable__label {\n  /* fitted */\n  background-color: var(--sklearn-color-fitted-level-2);\n}\n\n#sk-container-id-4 div.sk-label label.sk-toggleable__label,\n#sk-container-id-4 div.sk-label label {\n  /* The background is the default theme color */\n  color: var(--sklearn-color-text-on-default-background);\n}\n\n/* On hover, darken the color of the background */\n#sk-container-id-4 div.sk-label:hover label.sk-toggleable__label {\n  color: var(--sklearn-color-text);\n  background-color: var(--sklearn-color-unfitted-level-2);\n}\n\n/* Label box, darken color on hover, fitted */\n#sk-container-id-4 div.sk-label.fitted:hover label.sk-toggleable__label.fitted {\n  color: var(--sklearn-color-text);\n  background-color: var(--sklearn-color-fitted-level-2);\n}\n\n/* Estimator label */\n\n#sk-container-id-4 div.sk-label label {\n  font-family: monospace;\n  font-weight: bold;\n  display: inline-block;\n  line-height: 1.2em;\n}\n\n#sk-container-id-4 div.sk-label-container {\n  text-align: center;\n}\n\n/* Estimator-specific */\n#sk-container-id-4 div.sk-estimator {\n  font-family: monospace;\n  border: 1px dotted var(--sklearn-color-border-box);\n  border-radius: 0.25em;\n  box-sizing: border-box;\n  margin-bottom: 0.5em;\n  /* unfitted */\n  background-color: var(--sklearn-color-unfitted-level-0);\n}\n\n#sk-container-id-4 div.sk-estimator.fitted {\n  /* fitted */\n  background-color: var(--sklearn-color-fitted-level-0);\n}\n\n/* on hover */\n#sk-container-id-4 div.sk-estimator:hover {\n  /* unfitted */\n  background-color: var(--sklearn-color-unfitted-level-2);\n}\n\n#sk-container-id-4 div.sk-estimator.fitted:hover {\n  /* fitted */\n  background-color: var(--sklearn-color-fitted-level-2);\n}\n\n/* Specification for estimator info (e.g. \"i\" and \"?\") */\n\n/* Common style for \"i\" and \"?\" */\n\n.sk-estimator-doc-link,\na:link.sk-estimator-doc-link,\na:visited.sk-estimator-doc-link {\n  float: right;\n  font-size: smaller;\n  line-height: 1em;\n  font-family: monospace;\n  background-color: var(--sklearn-color-background);\n  border-radius: 1em;\n  height: 1em;\n  width: 1em;\n  text-decoration: none !important;\n  margin-left: 1ex;\n  /* unfitted */\n  border: var(--sklearn-color-unfitted-level-1) 1pt solid;\n  color: var(--sklearn-color-unfitted-level-1);\n}\n\n.sk-estimator-doc-link.fitted,\na:link.sk-estimator-doc-link.fitted,\na:visited.sk-estimator-doc-link.fitted {\n  /* fitted */\n  border: var(--sklearn-color-fitted-level-1) 1pt solid;\n  color: var(--sklearn-color-fitted-level-1);\n}\n\n/* On hover */\ndiv.sk-estimator:hover .sk-estimator-doc-link:hover,\n.sk-estimator-doc-link:hover,\ndiv.sk-label-container:hover .sk-estimator-doc-link:hover,\n.sk-estimator-doc-link:hover {\n  /* unfitted */\n  background-color: var(--sklearn-color-unfitted-level-3);\n  color: var(--sklearn-color-background);\n  text-decoration: none;\n}\n\ndiv.sk-estimator.fitted:hover .sk-estimator-doc-link.fitted:hover,\n.sk-estimator-doc-link.fitted:hover,\ndiv.sk-label-container:hover .sk-estimator-doc-link.fitted:hover,\n.sk-estimator-doc-link.fitted:hover {\n  /* fitted */\n  background-color: var(--sklearn-color-fitted-level-3);\n  color: var(--sklearn-color-background);\n  text-decoration: none;\n}\n\n/* Span, style for the box shown on hovering the info icon */\n.sk-estimator-doc-link span {\n  display: none;\n  z-index: 9999;\n  position: relative;\n  font-weight: normal;\n  right: .2ex;\n  padding: .5ex;\n  margin: .5ex;\n  width: min-content;\n  min-width: 20ex;\n  max-width: 50ex;\n  color: var(--sklearn-color-text);\n  box-shadow: 2pt 2pt 4pt #999;\n  /* unfitted */\n  background: var(--sklearn-color-unfitted-level-0);\n  border: .5pt solid var(--sklearn-color-unfitted-level-3);\n}\n\n.sk-estimator-doc-link.fitted span {\n  /* fitted */\n  background: var(--sklearn-color-fitted-level-0);\n  border: var(--sklearn-color-fitted-level-3);\n}\n\n.sk-estimator-doc-link:hover span {\n  display: block;\n}\n\n/* \"?\"-specific style due to the `<a>` HTML tag */\n\n#sk-container-id-4 a.estimator_doc_link {\n  float: right;\n  font-size: 1rem;\n  line-height: 1em;\n  font-family: monospace;\n  background-color: var(--sklearn-color-background);\n  border-radius: 1rem;\n  height: 1rem;\n  width: 1rem;\n  text-decoration: none;\n  /* unfitted */\n  color: var(--sklearn-color-unfitted-level-1);\n  border: var(--sklearn-color-unfitted-level-1) 1pt solid;\n}\n\n#sk-container-id-4 a.estimator_doc_link.fitted {\n  /* fitted */\n  border: var(--sklearn-color-fitted-level-1) 1pt solid;\n  color: var(--sklearn-color-fitted-level-1);\n}\n\n/* On hover */\n#sk-container-id-4 a.estimator_doc_link:hover {\n  /* unfitted */\n  background-color: var(--sklearn-color-unfitted-level-3);\n  color: var(--sklearn-color-background);\n  text-decoration: none;\n}\n\n#sk-container-id-4 a.estimator_doc_link.fitted:hover {\n  /* fitted */\n  background-color: var(--sklearn-color-fitted-level-3);\n}\n</style><div id=\"sk-container-id-4\" class=\"sk-top-container\"><div class=\"sk-text-repr-fallback\"><pre>LinearRegression()</pre><b>In a Jupyter environment, please rerun this cell to show the HTML representation or trust the notebook. <br />On GitHub, the HTML representation is unable to render, please try loading this page with nbviewer.org.</b></div><div class=\"sk-container\" hidden><div class=\"sk-item\"><div class=\"sk-estimator fitted sk-toggleable\"><input class=\"sk-toggleable__control sk-hidden--visually\" id=\"sk-estimator-id-4\" type=\"checkbox\" checked><label for=\"sk-estimator-id-4\" class=\"sk-toggleable__label fitted sk-toggleable__label-arrow fitted\">&nbsp;&nbsp;LinearRegression<a class=\"sk-estimator-doc-link fitted\" rel=\"noreferrer\" target=\"_blank\" href=\"https://scikit-learn.org/1.4/modules/generated/sklearn.linear_model.LinearRegression.html\">?<span>Documentation for LinearRegression</span></a><span class=\"sk-estimator-doc-link fitted\">i<span>Fitted</span></span></label><div class=\"sk-toggleable__content fitted\"><pre>LinearRegression()</pre></div> </div></div></div></div>"
     },
     "execution_count": 42,
     "metadata": {},
     "output_type": "execute_result"
    }
   ],
   "source": [
    "# LinerRegression modeli\n",
    "model_lr = LinearRegression()\n",
    "model_lr.fit(X_train, y_train)"
   ]
  },
  {
   "cell_type": "code",
   "execution_count": 43,
   "metadata": {
    "ExecuteTime": {
     "end_time": "2024-03-27T09:55:52.981378Z",
     "start_time": "2024-03-27T09:55:52.909435Z"
    }
   },
   "outputs": [
    {
     "name": "stdout",
     "output_type": "stream",
     "text": [
      "Eğitim RMSE: 140499.73428429826\n",
      "Test RMSE: 136363.16095002915\n"
     ]
    },
    {
     "name": "stderr",
     "output_type": "stream",
     "text": [
      "/Users/berkfatihturan/Desktop/bft/Projects/Python/dataRe/venv/lib/python3.9/site-packages/sklearn/metrics/_regression.py:483: FutureWarning: 'squared' is deprecated in version 1.4 and will be removed in 1.6. To calculate the root mean squared error, use the function'root_mean_squared_error'.\n",
      "  warnings.warn(\n",
      "/Users/berkfatihturan/Desktop/bft/Projects/Python/dataRe/venv/lib/python3.9/site-packages/sklearn/metrics/_regression.py:483: FutureWarning: 'squared' is deprecated in version 1.4 and will be removed in 1.6. To calculate the root mean squared error, use the function'root_mean_squared_error'.\n",
      "  warnings.warn(\n"
     ]
    }
   ],
   "source": [
    "# Eğitim ve test hatasını hesaplayalım\n",
    "train_predictions_lr = model_lr.predict(X_train)\n",
    "test_predictions_lr = model_lr.predict(X_test)\n",
    "train_rmse_lr = mean_squared_error(y_train, train_predictions_lr, squared=False)\n",
    "test_rmse_lr = mean_squared_error(y_test, test_predictions_lr, squared=False)\n",
    "\n",
    "print(\"Eğitim RMSE:\", train_rmse_lr)\n",
    "print(\"Test RMSE:\", test_rmse_lr)"
   ]
  },
  {
   "cell_type": "code",
   "execution_count": 32,
   "metadata": {
    "ExecuteTime": {
     "end_time": "2024-03-27T09:32:47.478137Z",
     "start_time": "2024-03-27T09:32:44.881111Z"
    }
   },
   "outputs": [
    {
     "data": {
      "text/plain": "XGBRegressor(base_score=None, booster=None, callbacks=None,\n             colsample_bylevel=None, colsample_bynode=None,\n             colsample_bytree=None, device=None, early_stopping_rounds=None,\n             enable_categorical=False, eval_metric=None, feature_types=None,\n             gamma=None, grow_policy=None, importance_type=None,\n             interaction_constraints=None, learning_rate=None, max_bin=None,\n             max_cat_threshold=None, max_cat_to_onehot=None,\n             max_delta_step=None, max_depth=None, max_leaves=None,\n             min_child_weight=None, missing=nan, monotone_constraints=None,\n             multi_strategy=None, n_estimators=None, n_jobs=None,\n             num_parallel_tree=None, random_state=None, ...)",
      "text/html": "<style>#sk-container-id-2 {\n  /* Definition of color scheme common for light and dark mode */\n  --sklearn-color-text: black;\n  --sklearn-color-line: gray;\n  /* Definition of color scheme for unfitted estimators */\n  --sklearn-color-unfitted-level-0: #fff5e6;\n  --sklearn-color-unfitted-level-1: #f6e4d2;\n  --sklearn-color-unfitted-level-2: #ffe0b3;\n  --sklearn-color-unfitted-level-3: chocolate;\n  /* Definition of color scheme for fitted estimators */\n  --sklearn-color-fitted-level-0: #f0f8ff;\n  --sklearn-color-fitted-level-1: #d4ebff;\n  --sklearn-color-fitted-level-2: #b3dbfd;\n  --sklearn-color-fitted-level-3: cornflowerblue;\n\n  /* Specific color for light theme */\n  --sklearn-color-text-on-default-background: var(--sg-text-color, var(--theme-code-foreground, var(--jp-content-font-color1, black)));\n  --sklearn-color-background: var(--sg-background-color, var(--theme-background, var(--jp-layout-color0, white)));\n  --sklearn-color-border-box: var(--sg-text-color, var(--theme-code-foreground, var(--jp-content-font-color1, black)));\n  --sklearn-color-icon: #696969;\n\n  @media (prefers-color-scheme: dark) {\n    /* Redefinition of color scheme for dark theme */\n    --sklearn-color-text-on-default-background: var(--sg-text-color, var(--theme-code-foreground, var(--jp-content-font-color1, white)));\n    --sklearn-color-background: var(--sg-background-color, var(--theme-background, var(--jp-layout-color0, #111)));\n    --sklearn-color-border-box: var(--sg-text-color, var(--theme-code-foreground, var(--jp-content-font-color1, white)));\n    --sklearn-color-icon: #878787;\n  }\n}\n\n#sk-container-id-2 {\n  color: var(--sklearn-color-text);\n}\n\n#sk-container-id-2 pre {\n  padding: 0;\n}\n\n#sk-container-id-2 input.sk-hidden--visually {\n  border: 0;\n  clip: rect(1px 1px 1px 1px);\n  clip: rect(1px, 1px, 1px, 1px);\n  height: 1px;\n  margin: -1px;\n  overflow: hidden;\n  padding: 0;\n  position: absolute;\n  width: 1px;\n}\n\n#sk-container-id-2 div.sk-dashed-wrapped {\n  border: 1px dashed var(--sklearn-color-line);\n  margin: 0 0.4em 0.5em 0.4em;\n  box-sizing: border-box;\n  padding-bottom: 0.4em;\n  background-color: var(--sklearn-color-background);\n}\n\n#sk-container-id-2 div.sk-container {\n  /* jupyter's `normalize.less` sets `[hidden] { display: none; }`\n     but bootstrap.min.css set `[hidden] { display: none !important; }`\n     so we also need the `!important` here to be able to override the\n     default hidden behavior on the sphinx rendered scikit-learn.org.\n     See: https://github.com/scikit-learn/scikit-learn/issues/21755 */\n  display: inline-block !important;\n  position: relative;\n}\n\n#sk-container-id-2 div.sk-text-repr-fallback {\n  display: none;\n}\n\ndiv.sk-parallel-item,\ndiv.sk-serial,\ndiv.sk-item {\n  /* draw centered vertical line to link estimators */\n  background-image: linear-gradient(var(--sklearn-color-text-on-default-background), var(--sklearn-color-text-on-default-background));\n  background-size: 2px 100%;\n  background-repeat: no-repeat;\n  background-position: center center;\n}\n\n/* Parallel-specific style estimator block */\n\n#sk-container-id-2 div.sk-parallel-item::after {\n  content: \"\";\n  width: 100%;\n  border-bottom: 2px solid var(--sklearn-color-text-on-default-background);\n  flex-grow: 1;\n}\n\n#sk-container-id-2 div.sk-parallel {\n  display: flex;\n  align-items: stretch;\n  justify-content: center;\n  background-color: var(--sklearn-color-background);\n  position: relative;\n}\n\n#sk-container-id-2 div.sk-parallel-item {\n  display: flex;\n  flex-direction: column;\n}\n\n#sk-container-id-2 div.sk-parallel-item:first-child::after {\n  align-self: flex-end;\n  width: 50%;\n}\n\n#sk-container-id-2 div.sk-parallel-item:last-child::after {\n  align-self: flex-start;\n  width: 50%;\n}\n\n#sk-container-id-2 div.sk-parallel-item:only-child::after {\n  width: 0;\n}\n\n/* Serial-specific style estimator block */\n\n#sk-container-id-2 div.sk-serial {\n  display: flex;\n  flex-direction: column;\n  align-items: center;\n  background-color: var(--sklearn-color-background);\n  padding-right: 1em;\n  padding-left: 1em;\n}\n\n\n/* Toggleable style: style used for estimator/Pipeline/ColumnTransformer box that is\nclickable and can be expanded/collapsed.\n- Pipeline and ColumnTransformer use this feature and define the default style\n- Estimators will overwrite some part of the style using the `sk-estimator` class\n*/\n\n/* Pipeline and ColumnTransformer style (default) */\n\n#sk-container-id-2 div.sk-toggleable {\n  /* Default theme specific background. It is overwritten whether we have a\n  specific estimator or a Pipeline/ColumnTransformer */\n  background-color: var(--sklearn-color-background);\n}\n\n/* Toggleable label */\n#sk-container-id-2 label.sk-toggleable__label {\n  cursor: pointer;\n  display: block;\n  width: 100%;\n  margin-bottom: 0;\n  padding: 0.5em;\n  box-sizing: border-box;\n  text-align: center;\n}\n\n#sk-container-id-2 label.sk-toggleable__label-arrow:before {\n  /* Arrow on the left of the label */\n  content: \"▸\";\n  float: left;\n  margin-right: 0.25em;\n  color: var(--sklearn-color-icon);\n}\n\n#sk-container-id-2 label.sk-toggleable__label-arrow:hover:before {\n  color: var(--sklearn-color-text);\n}\n\n/* Toggleable content - dropdown */\n\n#sk-container-id-2 div.sk-toggleable__content {\n  max-height: 0;\n  max-width: 0;\n  overflow: hidden;\n  text-align: left;\n  /* unfitted */\n  background-color: var(--sklearn-color-unfitted-level-0);\n}\n\n#sk-container-id-2 div.sk-toggleable__content.fitted {\n  /* fitted */\n  background-color: var(--sklearn-color-fitted-level-0);\n}\n\n#sk-container-id-2 div.sk-toggleable__content pre {\n  margin: 0.2em;\n  border-radius: 0.25em;\n  color: var(--sklearn-color-text);\n  /* unfitted */\n  background-color: var(--sklearn-color-unfitted-level-0);\n}\n\n#sk-container-id-2 div.sk-toggleable__content.fitted pre {\n  /* unfitted */\n  background-color: var(--sklearn-color-fitted-level-0);\n}\n\n#sk-container-id-2 input.sk-toggleable__control:checked~div.sk-toggleable__content {\n  /* Expand drop-down */\n  max-height: 200px;\n  max-width: 100%;\n  overflow: auto;\n}\n\n#sk-container-id-2 input.sk-toggleable__control:checked~label.sk-toggleable__label-arrow:before {\n  content: \"▾\";\n}\n\n/* Pipeline/ColumnTransformer-specific style */\n\n#sk-container-id-2 div.sk-label input.sk-toggleable__control:checked~label.sk-toggleable__label {\n  color: var(--sklearn-color-text);\n  background-color: var(--sklearn-color-unfitted-level-2);\n}\n\n#sk-container-id-2 div.sk-label.fitted input.sk-toggleable__control:checked~label.sk-toggleable__label {\n  background-color: var(--sklearn-color-fitted-level-2);\n}\n\n/* Estimator-specific style */\n\n/* Colorize estimator box */\n#sk-container-id-2 div.sk-estimator input.sk-toggleable__control:checked~label.sk-toggleable__label {\n  /* unfitted */\n  background-color: var(--sklearn-color-unfitted-level-2);\n}\n\n#sk-container-id-2 div.sk-estimator.fitted input.sk-toggleable__control:checked~label.sk-toggleable__label {\n  /* fitted */\n  background-color: var(--sklearn-color-fitted-level-2);\n}\n\n#sk-container-id-2 div.sk-label label.sk-toggleable__label,\n#sk-container-id-2 div.sk-label label {\n  /* The background is the default theme color */\n  color: var(--sklearn-color-text-on-default-background);\n}\n\n/* On hover, darken the color of the background */\n#sk-container-id-2 div.sk-label:hover label.sk-toggleable__label {\n  color: var(--sklearn-color-text);\n  background-color: var(--sklearn-color-unfitted-level-2);\n}\n\n/* Label box, darken color on hover, fitted */\n#sk-container-id-2 div.sk-label.fitted:hover label.sk-toggleable__label.fitted {\n  color: var(--sklearn-color-text);\n  background-color: var(--sklearn-color-fitted-level-2);\n}\n\n/* Estimator label */\n\n#sk-container-id-2 div.sk-label label {\n  font-family: monospace;\n  font-weight: bold;\n  display: inline-block;\n  line-height: 1.2em;\n}\n\n#sk-container-id-2 div.sk-label-container {\n  text-align: center;\n}\n\n/* Estimator-specific */\n#sk-container-id-2 div.sk-estimator {\n  font-family: monospace;\n  border: 1px dotted var(--sklearn-color-border-box);\n  border-radius: 0.25em;\n  box-sizing: border-box;\n  margin-bottom: 0.5em;\n  /* unfitted */\n  background-color: var(--sklearn-color-unfitted-level-0);\n}\n\n#sk-container-id-2 div.sk-estimator.fitted {\n  /* fitted */\n  background-color: var(--sklearn-color-fitted-level-0);\n}\n\n/* on hover */\n#sk-container-id-2 div.sk-estimator:hover {\n  /* unfitted */\n  background-color: var(--sklearn-color-unfitted-level-2);\n}\n\n#sk-container-id-2 div.sk-estimator.fitted:hover {\n  /* fitted */\n  background-color: var(--sklearn-color-fitted-level-2);\n}\n\n/* Specification for estimator info (e.g. \"i\" and \"?\") */\n\n/* Common style for \"i\" and \"?\" */\n\n.sk-estimator-doc-link,\na:link.sk-estimator-doc-link,\na:visited.sk-estimator-doc-link {\n  float: right;\n  font-size: smaller;\n  line-height: 1em;\n  font-family: monospace;\n  background-color: var(--sklearn-color-background);\n  border-radius: 1em;\n  height: 1em;\n  width: 1em;\n  text-decoration: none !important;\n  margin-left: 1ex;\n  /* unfitted */\n  border: var(--sklearn-color-unfitted-level-1) 1pt solid;\n  color: var(--sklearn-color-unfitted-level-1);\n}\n\n.sk-estimator-doc-link.fitted,\na:link.sk-estimator-doc-link.fitted,\na:visited.sk-estimator-doc-link.fitted {\n  /* fitted */\n  border: var(--sklearn-color-fitted-level-1) 1pt solid;\n  color: var(--sklearn-color-fitted-level-1);\n}\n\n/* On hover */\ndiv.sk-estimator:hover .sk-estimator-doc-link:hover,\n.sk-estimator-doc-link:hover,\ndiv.sk-label-container:hover .sk-estimator-doc-link:hover,\n.sk-estimator-doc-link:hover {\n  /* unfitted */\n  background-color: var(--sklearn-color-unfitted-level-3);\n  color: var(--sklearn-color-background);\n  text-decoration: none;\n}\n\ndiv.sk-estimator.fitted:hover .sk-estimator-doc-link.fitted:hover,\n.sk-estimator-doc-link.fitted:hover,\ndiv.sk-label-container:hover .sk-estimator-doc-link.fitted:hover,\n.sk-estimator-doc-link.fitted:hover {\n  /* fitted */\n  background-color: var(--sklearn-color-fitted-level-3);\n  color: var(--sklearn-color-background);\n  text-decoration: none;\n}\n\n/* Span, style for the box shown on hovering the info icon */\n.sk-estimator-doc-link span {\n  display: none;\n  z-index: 9999;\n  position: relative;\n  font-weight: normal;\n  right: .2ex;\n  padding: .5ex;\n  margin: .5ex;\n  width: min-content;\n  min-width: 20ex;\n  max-width: 50ex;\n  color: var(--sklearn-color-text);\n  box-shadow: 2pt 2pt 4pt #999;\n  /* unfitted */\n  background: var(--sklearn-color-unfitted-level-0);\n  border: .5pt solid var(--sklearn-color-unfitted-level-3);\n}\n\n.sk-estimator-doc-link.fitted span {\n  /* fitted */\n  background: var(--sklearn-color-fitted-level-0);\n  border: var(--sklearn-color-fitted-level-3);\n}\n\n.sk-estimator-doc-link:hover span {\n  display: block;\n}\n\n/* \"?\"-specific style due to the `<a>` HTML tag */\n\n#sk-container-id-2 a.estimator_doc_link {\n  float: right;\n  font-size: 1rem;\n  line-height: 1em;\n  font-family: monospace;\n  background-color: var(--sklearn-color-background);\n  border-radius: 1rem;\n  height: 1rem;\n  width: 1rem;\n  text-decoration: none;\n  /* unfitted */\n  color: var(--sklearn-color-unfitted-level-1);\n  border: var(--sklearn-color-unfitted-level-1) 1pt solid;\n}\n\n#sk-container-id-2 a.estimator_doc_link.fitted {\n  /* fitted */\n  border: var(--sklearn-color-fitted-level-1) 1pt solid;\n  color: var(--sklearn-color-fitted-level-1);\n}\n\n/* On hover */\n#sk-container-id-2 a.estimator_doc_link:hover {\n  /* unfitted */\n  background-color: var(--sklearn-color-unfitted-level-3);\n  color: var(--sklearn-color-background);\n  text-decoration: none;\n}\n\n#sk-container-id-2 a.estimator_doc_link.fitted:hover {\n  /* fitted */\n  background-color: var(--sklearn-color-fitted-level-3);\n}\n</style><div id=\"sk-container-id-2\" class=\"sk-top-container\"><div class=\"sk-text-repr-fallback\"><pre>XGBRegressor(base_score=None, booster=None, callbacks=None,\n             colsample_bylevel=None, colsample_bynode=None,\n             colsample_bytree=None, device=None, early_stopping_rounds=None,\n             enable_categorical=False, eval_metric=None, feature_types=None,\n             gamma=None, grow_policy=None, importance_type=None,\n             interaction_constraints=None, learning_rate=None, max_bin=None,\n             max_cat_threshold=None, max_cat_to_onehot=None,\n             max_delta_step=None, max_depth=None, max_leaves=None,\n             min_child_weight=None, missing=nan, monotone_constraints=None,\n             multi_strategy=None, n_estimators=None, n_jobs=None,\n             num_parallel_tree=None, random_state=None, ...)</pre><b>In a Jupyter environment, please rerun this cell to show the HTML representation or trust the notebook. <br />On GitHub, the HTML representation is unable to render, please try loading this page with nbviewer.org.</b></div><div class=\"sk-container\" hidden><div class=\"sk-item\"><div class=\"sk-estimator fitted sk-toggleable\"><input class=\"sk-toggleable__control sk-hidden--visually\" id=\"sk-estimator-id-2\" type=\"checkbox\" checked><label for=\"sk-estimator-id-2\" class=\"sk-toggleable__label fitted sk-toggleable__label-arrow fitted\">&nbsp;XGBRegressor<span class=\"sk-estimator-doc-link fitted\">i<span>Fitted</span></span></label><div class=\"sk-toggleable__content fitted\"><pre>XGBRegressor(base_score=None, booster=None, callbacks=None,\n             colsample_bylevel=None, colsample_bynode=None,\n             colsample_bytree=None, device=None, early_stopping_rounds=None,\n             enable_categorical=False, eval_metric=None, feature_types=None,\n             gamma=None, grow_policy=None, importance_type=None,\n             interaction_constraints=None, learning_rate=None, max_bin=None,\n             max_cat_threshold=None, max_cat_to_onehot=None,\n             max_delta_step=None, max_depth=None, max_leaves=None,\n             min_child_weight=None, missing=nan, monotone_constraints=None,\n             multi_strategy=None, n_estimators=None, n_jobs=None,\n             num_parallel_tree=None, random_state=None, ...)</pre></div> </div></div></div></div>"
     },
     "execution_count": 32,
     "metadata": {},
     "output_type": "execute_result"
    }
   ],
   "source": [
    "# XGBoost regresyon modelini oluşturalım ve eğitelim\n",
    "model_xgb = XGBRegressor()\n",
    "model_xgb.fit(X_train, y_train)"
   ]
  },
  {
   "cell_type": "code",
   "execution_count": 33,
   "metadata": {
    "ExecuteTime": {
     "end_time": "2024-03-27T09:32:47.608088Z",
     "start_time": "2024-03-27T09:32:47.496729Z"
    }
   },
   "outputs": [
    {
     "name": "stdout",
     "output_type": "stream",
     "text": [
      "Eğitim RMSE: 64616.1117151135\n",
      "Test RMSE: 76190.65012847747\n"
     ]
    },
    {
     "name": "stderr",
     "output_type": "stream",
     "text": [
      "/Users/berkfatihturan/Desktop/bft/Projects/Python/dataRe/venv/lib/python3.9/site-packages/sklearn/metrics/_regression.py:483: FutureWarning: 'squared' is deprecated in version 1.4 and will be removed in 1.6. To calculate the root mean squared error, use the function'root_mean_squared_error'.\n",
      "  warnings.warn(\n",
      "/Users/berkfatihturan/Desktop/bft/Projects/Python/dataRe/venv/lib/python3.9/site-packages/sklearn/metrics/_regression.py:483: FutureWarning: 'squared' is deprecated in version 1.4 and will be removed in 1.6. To calculate the root mean squared error, use the function'root_mean_squared_error'.\n",
      "  warnings.warn(\n"
     ]
    }
   ],
   "source": [
    "# Eğitim ve test hatasını hesaplayalım\n",
    "train_predictions_xgb = model_xgb.predict(X_train)\n",
    "test_predictions_xgb = model_xgb.predict(X_test)\n",
    "train_rmse_xgb = mean_squared_error(y_train, train_predictions_xgb, squared=False)\n",
    "test_rmse_xgb = mean_squared_error(y_test, test_predictions_xgb, squared=False)\n",
    "\n",
    "print(\"Eğitim RMSE:\", train_rmse_xgb)\n",
    "print(\"Test RMSE:\", test_rmse_xgb)"
   ]
  },
  {
   "cell_type": "code",
   "execution_count": 34,
   "metadata": {
    "ExecuteTime": {
     "end_time": "2024-03-27T09:33:13.703284Z",
     "start_time": "2024-03-27T09:32:47.620274Z"
    }
   },
   "outputs": [
    {
     "data": {
      "text/plain": "RandomForestRegressor()",
      "text/html": "<style>#sk-container-id-3 {\n  /* Definition of color scheme common for light and dark mode */\n  --sklearn-color-text: black;\n  --sklearn-color-line: gray;\n  /* Definition of color scheme for unfitted estimators */\n  --sklearn-color-unfitted-level-0: #fff5e6;\n  --sklearn-color-unfitted-level-1: #f6e4d2;\n  --sklearn-color-unfitted-level-2: #ffe0b3;\n  --sklearn-color-unfitted-level-3: chocolate;\n  /* Definition of color scheme for fitted estimators */\n  --sklearn-color-fitted-level-0: #f0f8ff;\n  --sklearn-color-fitted-level-1: #d4ebff;\n  --sklearn-color-fitted-level-2: #b3dbfd;\n  --sklearn-color-fitted-level-3: cornflowerblue;\n\n  /* Specific color for light theme */\n  --sklearn-color-text-on-default-background: var(--sg-text-color, var(--theme-code-foreground, var(--jp-content-font-color1, black)));\n  --sklearn-color-background: var(--sg-background-color, var(--theme-background, var(--jp-layout-color0, white)));\n  --sklearn-color-border-box: var(--sg-text-color, var(--theme-code-foreground, var(--jp-content-font-color1, black)));\n  --sklearn-color-icon: #696969;\n\n  @media (prefers-color-scheme: dark) {\n    /* Redefinition of color scheme for dark theme */\n    --sklearn-color-text-on-default-background: var(--sg-text-color, var(--theme-code-foreground, var(--jp-content-font-color1, white)));\n    --sklearn-color-background: var(--sg-background-color, var(--theme-background, var(--jp-layout-color0, #111)));\n    --sklearn-color-border-box: var(--sg-text-color, var(--theme-code-foreground, var(--jp-content-font-color1, white)));\n    --sklearn-color-icon: #878787;\n  }\n}\n\n#sk-container-id-3 {\n  color: var(--sklearn-color-text);\n}\n\n#sk-container-id-3 pre {\n  padding: 0;\n}\n\n#sk-container-id-3 input.sk-hidden--visually {\n  border: 0;\n  clip: rect(1px 1px 1px 1px);\n  clip: rect(1px, 1px, 1px, 1px);\n  height: 1px;\n  margin: -1px;\n  overflow: hidden;\n  padding: 0;\n  position: absolute;\n  width: 1px;\n}\n\n#sk-container-id-3 div.sk-dashed-wrapped {\n  border: 1px dashed var(--sklearn-color-line);\n  margin: 0 0.4em 0.5em 0.4em;\n  box-sizing: border-box;\n  padding-bottom: 0.4em;\n  background-color: var(--sklearn-color-background);\n}\n\n#sk-container-id-3 div.sk-container {\n  /* jupyter's `normalize.less` sets `[hidden] { display: none; }`\n     but bootstrap.min.css set `[hidden] { display: none !important; }`\n     so we also need the `!important` here to be able to override the\n     default hidden behavior on the sphinx rendered scikit-learn.org.\n     See: https://github.com/scikit-learn/scikit-learn/issues/21755 */\n  display: inline-block !important;\n  position: relative;\n}\n\n#sk-container-id-3 div.sk-text-repr-fallback {\n  display: none;\n}\n\ndiv.sk-parallel-item,\ndiv.sk-serial,\ndiv.sk-item {\n  /* draw centered vertical line to link estimators */\n  background-image: linear-gradient(var(--sklearn-color-text-on-default-background), var(--sklearn-color-text-on-default-background));\n  background-size: 2px 100%;\n  background-repeat: no-repeat;\n  background-position: center center;\n}\n\n/* Parallel-specific style estimator block */\n\n#sk-container-id-3 div.sk-parallel-item::after {\n  content: \"\";\n  width: 100%;\n  border-bottom: 2px solid var(--sklearn-color-text-on-default-background);\n  flex-grow: 1;\n}\n\n#sk-container-id-3 div.sk-parallel {\n  display: flex;\n  align-items: stretch;\n  justify-content: center;\n  background-color: var(--sklearn-color-background);\n  position: relative;\n}\n\n#sk-container-id-3 div.sk-parallel-item {\n  display: flex;\n  flex-direction: column;\n}\n\n#sk-container-id-3 div.sk-parallel-item:first-child::after {\n  align-self: flex-end;\n  width: 50%;\n}\n\n#sk-container-id-3 div.sk-parallel-item:last-child::after {\n  align-self: flex-start;\n  width: 50%;\n}\n\n#sk-container-id-3 div.sk-parallel-item:only-child::after {\n  width: 0;\n}\n\n/* Serial-specific style estimator block */\n\n#sk-container-id-3 div.sk-serial {\n  display: flex;\n  flex-direction: column;\n  align-items: center;\n  background-color: var(--sklearn-color-background);\n  padding-right: 1em;\n  padding-left: 1em;\n}\n\n\n/* Toggleable style: style used for estimator/Pipeline/ColumnTransformer box that is\nclickable and can be expanded/collapsed.\n- Pipeline and ColumnTransformer use this feature and define the default style\n- Estimators will overwrite some part of the style using the `sk-estimator` class\n*/\n\n/* Pipeline and ColumnTransformer style (default) */\n\n#sk-container-id-3 div.sk-toggleable {\n  /* Default theme specific background. It is overwritten whether we have a\n  specific estimator or a Pipeline/ColumnTransformer */\n  background-color: var(--sklearn-color-background);\n}\n\n/* Toggleable label */\n#sk-container-id-3 label.sk-toggleable__label {\n  cursor: pointer;\n  display: block;\n  width: 100%;\n  margin-bottom: 0;\n  padding: 0.5em;\n  box-sizing: border-box;\n  text-align: center;\n}\n\n#sk-container-id-3 label.sk-toggleable__label-arrow:before {\n  /* Arrow on the left of the label */\n  content: \"▸\";\n  float: left;\n  margin-right: 0.25em;\n  color: var(--sklearn-color-icon);\n}\n\n#sk-container-id-3 label.sk-toggleable__label-arrow:hover:before {\n  color: var(--sklearn-color-text);\n}\n\n/* Toggleable content - dropdown */\n\n#sk-container-id-3 div.sk-toggleable__content {\n  max-height: 0;\n  max-width: 0;\n  overflow: hidden;\n  text-align: left;\n  /* unfitted */\n  background-color: var(--sklearn-color-unfitted-level-0);\n}\n\n#sk-container-id-3 div.sk-toggleable__content.fitted {\n  /* fitted */\n  background-color: var(--sklearn-color-fitted-level-0);\n}\n\n#sk-container-id-3 div.sk-toggleable__content pre {\n  margin: 0.2em;\n  border-radius: 0.25em;\n  color: var(--sklearn-color-text);\n  /* unfitted */\n  background-color: var(--sklearn-color-unfitted-level-0);\n}\n\n#sk-container-id-3 div.sk-toggleable__content.fitted pre {\n  /* unfitted */\n  background-color: var(--sklearn-color-fitted-level-0);\n}\n\n#sk-container-id-3 input.sk-toggleable__control:checked~div.sk-toggleable__content {\n  /* Expand drop-down */\n  max-height: 200px;\n  max-width: 100%;\n  overflow: auto;\n}\n\n#sk-container-id-3 input.sk-toggleable__control:checked~label.sk-toggleable__label-arrow:before {\n  content: \"▾\";\n}\n\n/* Pipeline/ColumnTransformer-specific style */\n\n#sk-container-id-3 div.sk-label input.sk-toggleable__control:checked~label.sk-toggleable__label {\n  color: var(--sklearn-color-text);\n  background-color: var(--sklearn-color-unfitted-level-2);\n}\n\n#sk-container-id-3 div.sk-label.fitted input.sk-toggleable__control:checked~label.sk-toggleable__label {\n  background-color: var(--sklearn-color-fitted-level-2);\n}\n\n/* Estimator-specific style */\n\n/* Colorize estimator box */\n#sk-container-id-3 div.sk-estimator input.sk-toggleable__control:checked~label.sk-toggleable__label {\n  /* unfitted */\n  background-color: var(--sklearn-color-unfitted-level-2);\n}\n\n#sk-container-id-3 div.sk-estimator.fitted input.sk-toggleable__control:checked~label.sk-toggleable__label {\n  /* fitted */\n  background-color: var(--sklearn-color-fitted-level-2);\n}\n\n#sk-container-id-3 div.sk-label label.sk-toggleable__label,\n#sk-container-id-3 div.sk-label label {\n  /* The background is the default theme color */\n  color: var(--sklearn-color-text-on-default-background);\n}\n\n/* On hover, darken the color of the background */\n#sk-container-id-3 div.sk-label:hover label.sk-toggleable__label {\n  color: var(--sklearn-color-text);\n  background-color: var(--sklearn-color-unfitted-level-2);\n}\n\n/* Label box, darken color on hover, fitted */\n#sk-container-id-3 div.sk-label.fitted:hover label.sk-toggleable__label.fitted {\n  color: var(--sklearn-color-text);\n  background-color: var(--sklearn-color-fitted-level-2);\n}\n\n/* Estimator label */\n\n#sk-container-id-3 div.sk-label label {\n  font-family: monospace;\n  font-weight: bold;\n  display: inline-block;\n  line-height: 1.2em;\n}\n\n#sk-container-id-3 div.sk-label-container {\n  text-align: center;\n}\n\n/* Estimator-specific */\n#sk-container-id-3 div.sk-estimator {\n  font-family: monospace;\n  border: 1px dotted var(--sklearn-color-border-box);\n  border-radius: 0.25em;\n  box-sizing: border-box;\n  margin-bottom: 0.5em;\n  /* unfitted */\n  background-color: var(--sklearn-color-unfitted-level-0);\n}\n\n#sk-container-id-3 div.sk-estimator.fitted {\n  /* fitted */\n  background-color: var(--sklearn-color-fitted-level-0);\n}\n\n/* on hover */\n#sk-container-id-3 div.sk-estimator:hover {\n  /* unfitted */\n  background-color: var(--sklearn-color-unfitted-level-2);\n}\n\n#sk-container-id-3 div.sk-estimator.fitted:hover {\n  /* fitted */\n  background-color: var(--sklearn-color-fitted-level-2);\n}\n\n/* Specification for estimator info (e.g. \"i\" and \"?\") */\n\n/* Common style for \"i\" and \"?\" */\n\n.sk-estimator-doc-link,\na:link.sk-estimator-doc-link,\na:visited.sk-estimator-doc-link {\n  float: right;\n  font-size: smaller;\n  line-height: 1em;\n  font-family: monospace;\n  background-color: var(--sklearn-color-background);\n  border-radius: 1em;\n  height: 1em;\n  width: 1em;\n  text-decoration: none !important;\n  margin-left: 1ex;\n  /* unfitted */\n  border: var(--sklearn-color-unfitted-level-1) 1pt solid;\n  color: var(--sklearn-color-unfitted-level-1);\n}\n\n.sk-estimator-doc-link.fitted,\na:link.sk-estimator-doc-link.fitted,\na:visited.sk-estimator-doc-link.fitted {\n  /* fitted */\n  border: var(--sklearn-color-fitted-level-1) 1pt solid;\n  color: var(--sklearn-color-fitted-level-1);\n}\n\n/* On hover */\ndiv.sk-estimator:hover .sk-estimator-doc-link:hover,\n.sk-estimator-doc-link:hover,\ndiv.sk-label-container:hover .sk-estimator-doc-link:hover,\n.sk-estimator-doc-link:hover {\n  /* unfitted */\n  background-color: var(--sklearn-color-unfitted-level-3);\n  color: var(--sklearn-color-background);\n  text-decoration: none;\n}\n\ndiv.sk-estimator.fitted:hover .sk-estimator-doc-link.fitted:hover,\n.sk-estimator-doc-link.fitted:hover,\ndiv.sk-label-container:hover .sk-estimator-doc-link.fitted:hover,\n.sk-estimator-doc-link.fitted:hover {\n  /* fitted */\n  background-color: var(--sklearn-color-fitted-level-3);\n  color: var(--sklearn-color-background);\n  text-decoration: none;\n}\n\n/* Span, style for the box shown on hovering the info icon */\n.sk-estimator-doc-link span {\n  display: none;\n  z-index: 9999;\n  position: relative;\n  font-weight: normal;\n  right: .2ex;\n  padding: .5ex;\n  margin: .5ex;\n  width: min-content;\n  min-width: 20ex;\n  max-width: 50ex;\n  color: var(--sklearn-color-text);\n  box-shadow: 2pt 2pt 4pt #999;\n  /* unfitted */\n  background: var(--sklearn-color-unfitted-level-0);\n  border: .5pt solid var(--sklearn-color-unfitted-level-3);\n}\n\n.sk-estimator-doc-link.fitted span {\n  /* fitted */\n  background: var(--sklearn-color-fitted-level-0);\n  border: var(--sklearn-color-fitted-level-3);\n}\n\n.sk-estimator-doc-link:hover span {\n  display: block;\n}\n\n/* \"?\"-specific style due to the `<a>` HTML tag */\n\n#sk-container-id-3 a.estimator_doc_link {\n  float: right;\n  font-size: 1rem;\n  line-height: 1em;\n  font-family: monospace;\n  background-color: var(--sklearn-color-background);\n  border-radius: 1rem;\n  height: 1rem;\n  width: 1rem;\n  text-decoration: none;\n  /* unfitted */\n  color: var(--sklearn-color-unfitted-level-1);\n  border: var(--sklearn-color-unfitted-level-1) 1pt solid;\n}\n\n#sk-container-id-3 a.estimator_doc_link.fitted {\n  /* fitted */\n  border: var(--sklearn-color-fitted-level-1) 1pt solid;\n  color: var(--sklearn-color-fitted-level-1);\n}\n\n/* On hover */\n#sk-container-id-3 a.estimator_doc_link:hover {\n  /* unfitted */\n  background-color: var(--sklearn-color-unfitted-level-3);\n  color: var(--sklearn-color-background);\n  text-decoration: none;\n}\n\n#sk-container-id-3 a.estimator_doc_link.fitted:hover {\n  /* fitted */\n  background-color: var(--sklearn-color-fitted-level-3);\n}\n</style><div id=\"sk-container-id-3\" class=\"sk-top-container\"><div class=\"sk-text-repr-fallback\"><pre>RandomForestRegressor()</pre><b>In a Jupyter environment, please rerun this cell to show the HTML representation or trust the notebook. <br />On GitHub, the HTML representation is unable to render, please try loading this page with nbviewer.org.</b></div><div class=\"sk-container\" hidden><div class=\"sk-item\"><div class=\"sk-estimator fitted sk-toggleable\"><input class=\"sk-toggleable__control sk-hidden--visually\" id=\"sk-estimator-id-3\" type=\"checkbox\" checked><label for=\"sk-estimator-id-3\" class=\"sk-toggleable__label fitted sk-toggleable__label-arrow fitted\">&nbsp;&nbsp;RandomForestRegressor<a class=\"sk-estimator-doc-link fitted\" rel=\"noreferrer\" target=\"_blank\" href=\"https://scikit-learn.org/1.4/modules/generated/sklearn.ensemble.RandomForestRegressor.html\">?<span>Documentation for RandomForestRegressor</span></a><span class=\"sk-estimator-doc-link fitted\">i<span>Fitted</span></span></label><div class=\"sk-toggleable__content fitted\"><pre>RandomForestRegressor()</pre></div> </div></div></div></div>"
     },
     "execution_count": 34,
     "metadata": {},
     "output_type": "execute_result"
    }
   ],
   "source": [
    "model_rf = RandomForestRegressor()\n",
    "model_rf.fit(X_train, y_train)"
   ]
  },
  {
   "cell_type": "code",
   "execution_count": 35,
   "metadata": {
    "ExecuteTime": {
     "end_time": "2024-03-27T09:33:17.125632Z",
     "start_time": "2024-03-27T09:33:13.707511Z"
    }
   },
   "outputs": [
    {
     "name": "stdout",
     "output_type": "stream",
     "text": [
      "Eğitim RMSE: 30823.35599852266\n",
      "Test RMSE: 80083.39961329628\n"
     ]
    },
    {
     "name": "stderr",
     "output_type": "stream",
     "text": [
      "/Users/berkfatihturan/Desktop/bft/Projects/Python/dataRe/venv/lib/python3.9/site-packages/sklearn/metrics/_regression.py:483: FutureWarning: 'squared' is deprecated in version 1.4 and will be removed in 1.6. To calculate the root mean squared error, use the function'root_mean_squared_error'.\n",
      "  warnings.warn(\n",
      "/Users/berkfatihturan/Desktop/bft/Projects/Python/dataRe/venv/lib/python3.9/site-packages/sklearn/metrics/_regression.py:483: FutureWarning: 'squared' is deprecated in version 1.4 and will be removed in 1.6. To calculate the root mean squared error, use the function'root_mean_squared_error'.\n",
      "  warnings.warn(\n"
     ]
    }
   ],
   "source": [
    "# Eğitim ve test hatasını hesaplayalım\n",
    "train_predictions_rf = model_rf.predict(X_train)\n",
    "test_predictions_rf = model_rf.predict(X_test)\n",
    "train_rmse_rf = mean_squared_error(y_train, train_predictions_rf, squared=False)\n",
    "test_rmse_rf = mean_squared_error(y_test, test_predictions_rf, squared=False)\n",
    "\n",
    "print(\"Eğitim RMSE:\", train_rmse_rf)\n",
    "print(\"Test RMSE:\", test_rmse_rf)\n",
    "\n",
    "# # Eğitim Verisinde güzel sonuç veriyor ama test verisinde çuvallamış. Overfitting olmuş. Bu model geliştirilebilir."
   ]
  }
 ],
 "metadata": {
  "kernelspec": {
   "display_name": "Python 3",
   "language": "python",
   "name": "python3"
  },
  "language_info": {
   "codemirror_mode": {
    "name": "ipython",
    "version": 3
   },
   "file_extension": ".py",
   "mimetype": "text/x-python",
   "name": "python",
   "nbconvert_exporter": "python",
   "pygments_lexer": "ipython3",
   "version": "3.12.0"
  }
 },
 "nbformat": 4,
 "nbformat_minor": 2
}
