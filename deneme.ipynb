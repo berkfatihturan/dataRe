{
 "cells": [
  {
   "cell_type": "code",
   "execution_count": 44,
   "id": "initial_id",
   "metadata": {
    "collapsed": true,
    "ExecuteTime": {
     "end_time": "2024-03-20T08:22:40.856298Z",
     "start_time": "2024-03-20T08:22:40.552596Z"
    }
   },
   "outputs": [
    {
     "data": {
      "text/plain": "        Yıl  Model  Renk  Boya-değişen  Çekiş  Arka Tampon  Sağ Ön Çamurluk  \\\n0      2023  30248   403         683.0  508.0          4.0              4.0   \n1      2023  30108   410         686.0  508.0          0.0              0.0   \n2      2013  31568   408         644.0  508.0          4.0              2.0   \n3      2022  31041   403         686.0  500.0          0.0              0.0   \n4      2004  30601   407         602.0  508.0          4.0              3.0   \n...     ...    ...   ...           ...    ...          ...              ...   \n51727  2014  31461   414         686.0  500.0          0.0              0.0   \n51728  2016  32048   407         683.0  508.0          4.0              4.0   \n51729  2007  32857   419         683.0  501.0          4.0              4.0   \n51730  2017  33234   403         683.0  504.0          4.0              4.0   \n51731  2011  31266   407         626.0  508.0          4.0              4.0   \n\n       Sol Ön Çamurluk  Kilometre    Fiyat  ...  Ön Tampon  Arka Kaput  \\\n0                  4.0       6084  1269750  ...        4.0         4.0   \n1                  0.0       6052  1549750  ...        0.0         0.0   \n2                  4.0      98000   576900  ...        4.0         4.0   \n3                  0.0      60000   639900  ...        0.0         0.0   \n4                  2.0     165000   448000  ...        4.0         4.0   \n...                ...        ...      ...  ...        ...         ...   \n51727              0.0     193486   669990  ...        0.0         0.0   \n51728              4.0      53000  1034500  ...        4.0         4.0   \n51729              4.0     260000   660000  ...        4.0         4.0   \n51730              4.0     280000   720000  ...        4.0         4.0   \n51731              3.0     170550   575000  ...        4.0         4.0   \n\n       Sol Arka Kapı  Sol Ön Kapı  Sağ Ön Kapı  \\\n0                4.0          4.0          4.0   \n1                0.0          0.0          0.0   \n2                4.0          4.0          2.0   \n3                0.0          0.0          0.0   \n4                4.0          4.0          4.0   \n...              ...          ...          ...   \n51727            0.0          0.0          0.0   \n51728            4.0          4.0          4.0   \n51729            4.0          4.0          4.0   \n51730            4.0          4.0          4.0   \n51731            2.0          2.0          2.0   \n\n                                        _id  Sağ Arka Kapı     Seri  \\\n0      {'$oid': '6567cd925f379fc6cb264beb'}            4.0  20318.0   \n1      {'$oid': '6567cd9e5f379fc6cb264bec'}            0.0  21146.0   \n2      {'$oid': '6567cda95f379fc6cb264bed'}            4.0  20242.0   \n3      {'$oid': '6567cdb45f379fc6cb264bee'}            0.0  20412.0   \n4      {'$oid': '6567cdbe5f379fc6cb264bef'}            4.0  20567.0   \n...                                     ...            ...      ...   \n51727  {'$oid': '658549d097856a190701bd54'}            0.0  20519.0   \n51728  {'$oid': '658549d997856a190701bd55'}            4.0  20948.0   \n51729  {'$oid': '658549e397856a190701bd56'}            4.0  20366.0   \n51730  {'$oid': '658549ec97856a190701bd57'}            4.0  21201.0   \n51731  {'$oid': '658549f697856a190701bd58'}            2.0  20801.0   \n\n       Sağ Arka Çamurluk Sol Arka Çamurluk  \n0                    4.0               4.0  \n1                    0.0               0.0  \n2                    1.0               4.0  \n3                    0.0               0.0  \n4                    4.0               4.0  \n...                  ...               ...  \n51727                0.0               0.0  \n51728                4.0               4.0  \n51729                4.0               4.0  \n51730                1.0               1.0  \n51731                4.0               4.0  \n\n[51732 rows x 24 columns]",
      "text/html": "<div>\n<style scoped>\n    .dataframe tbody tr th:only-of-type {\n        vertical-align: middle;\n    }\n\n    .dataframe tbody tr th {\n        vertical-align: top;\n    }\n\n    .dataframe thead th {\n        text-align: right;\n    }\n</style>\n<table border=\"1\" class=\"dataframe\">\n  <thead>\n    <tr style=\"text-align: right;\">\n      <th></th>\n      <th>Yıl</th>\n      <th>Model</th>\n      <th>Renk</th>\n      <th>Boya-değişen</th>\n      <th>Çekiş</th>\n      <th>Arka Tampon</th>\n      <th>Sağ Ön Çamurluk</th>\n      <th>Sol Ön Çamurluk</th>\n      <th>Kilometre</th>\n      <th>Fiyat</th>\n      <th>...</th>\n      <th>Ön Tampon</th>\n      <th>Arka Kaput</th>\n      <th>Sol Arka Kapı</th>\n      <th>Sol Ön Kapı</th>\n      <th>Sağ Ön Kapı</th>\n      <th>_id</th>\n      <th>Sağ Arka Kapı</th>\n      <th>Seri</th>\n      <th>Sağ Arka Çamurluk</th>\n      <th>Sol Arka Çamurluk</th>\n    </tr>\n  </thead>\n  <tbody>\n    <tr>\n      <th>0</th>\n      <td>2023</td>\n      <td>30248</td>\n      <td>403</td>\n      <td>683.0</td>\n      <td>508.0</td>\n      <td>4.0</td>\n      <td>4.0</td>\n      <td>4.0</td>\n      <td>6084</td>\n      <td>1269750</td>\n      <td>...</td>\n      <td>4.0</td>\n      <td>4.0</td>\n      <td>4.0</td>\n      <td>4.0</td>\n      <td>4.0</td>\n      <td>{'$oid': '6567cd925f379fc6cb264beb'}</td>\n      <td>4.0</td>\n      <td>20318.0</td>\n      <td>4.0</td>\n      <td>4.0</td>\n    </tr>\n    <tr>\n      <th>1</th>\n      <td>2023</td>\n      <td>30108</td>\n      <td>410</td>\n      <td>686.0</td>\n      <td>508.0</td>\n      <td>0.0</td>\n      <td>0.0</td>\n      <td>0.0</td>\n      <td>6052</td>\n      <td>1549750</td>\n      <td>...</td>\n      <td>0.0</td>\n      <td>0.0</td>\n      <td>0.0</td>\n      <td>0.0</td>\n      <td>0.0</td>\n      <td>{'$oid': '6567cd9e5f379fc6cb264bec'}</td>\n      <td>0.0</td>\n      <td>21146.0</td>\n      <td>0.0</td>\n      <td>0.0</td>\n    </tr>\n    <tr>\n      <th>2</th>\n      <td>2013</td>\n      <td>31568</td>\n      <td>408</td>\n      <td>644.0</td>\n      <td>508.0</td>\n      <td>4.0</td>\n      <td>2.0</td>\n      <td>4.0</td>\n      <td>98000</td>\n      <td>576900</td>\n      <td>...</td>\n      <td>4.0</td>\n      <td>4.0</td>\n      <td>4.0</td>\n      <td>4.0</td>\n      <td>2.0</td>\n      <td>{'$oid': '6567cda95f379fc6cb264bed'}</td>\n      <td>4.0</td>\n      <td>20242.0</td>\n      <td>1.0</td>\n      <td>4.0</td>\n    </tr>\n    <tr>\n      <th>3</th>\n      <td>2022</td>\n      <td>31041</td>\n      <td>403</td>\n      <td>686.0</td>\n      <td>500.0</td>\n      <td>0.0</td>\n      <td>0.0</td>\n      <td>0.0</td>\n      <td>60000</td>\n      <td>639900</td>\n      <td>...</td>\n      <td>0.0</td>\n      <td>0.0</td>\n      <td>0.0</td>\n      <td>0.0</td>\n      <td>0.0</td>\n      <td>{'$oid': '6567cdb45f379fc6cb264bee'}</td>\n      <td>0.0</td>\n      <td>20412.0</td>\n      <td>0.0</td>\n      <td>0.0</td>\n    </tr>\n    <tr>\n      <th>4</th>\n      <td>2004</td>\n      <td>30601</td>\n      <td>407</td>\n      <td>602.0</td>\n      <td>508.0</td>\n      <td>4.0</td>\n      <td>3.0</td>\n      <td>2.0</td>\n      <td>165000</td>\n      <td>448000</td>\n      <td>...</td>\n      <td>4.0</td>\n      <td>4.0</td>\n      <td>4.0</td>\n      <td>4.0</td>\n      <td>4.0</td>\n      <td>{'$oid': '6567cdbe5f379fc6cb264bef'}</td>\n      <td>4.0</td>\n      <td>20567.0</td>\n      <td>4.0</td>\n      <td>4.0</td>\n    </tr>\n    <tr>\n      <th>...</th>\n      <td>...</td>\n      <td>...</td>\n      <td>...</td>\n      <td>...</td>\n      <td>...</td>\n      <td>...</td>\n      <td>...</td>\n      <td>...</td>\n      <td>...</td>\n      <td>...</td>\n      <td>...</td>\n      <td>...</td>\n      <td>...</td>\n      <td>...</td>\n      <td>...</td>\n      <td>...</td>\n      <td>...</td>\n      <td>...</td>\n      <td>...</td>\n      <td>...</td>\n      <td>...</td>\n    </tr>\n    <tr>\n      <th>51727</th>\n      <td>2014</td>\n      <td>31461</td>\n      <td>414</td>\n      <td>686.0</td>\n      <td>500.0</td>\n      <td>0.0</td>\n      <td>0.0</td>\n      <td>0.0</td>\n      <td>193486</td>\n      <td>669990</td>\n      <td>...</td>\n      <td>0.0</td>\n      <td>0.0</td>\n      <td>0.0</td>\n      <td>0.0</td>\n      <td>0.0</td>\n      <td>{'$oid': '658549d097856a190701bd54'}</td>\n      <td>0.0</td>\n      <td>20519.0</td>\n      <td>0.0</td>\n      <td>0.0</td>\n    </tr>\n    <tr>\n      <th>51728</th>\n      <td>2016</td>\n      <td>32048</td>\n      <td>407</td>\n      <td>683.0</td>\n      <td>508.0</td>\n      <td>4.0</td>\n      <td>4.0</td>\n      <td>4.0</td>\n      <td>53000</td>\n      <td>1034500</td>\n      <td>...</td>\n      <td>4.0</td>\n      <td>4.0</td>\n      <td>4.0</td>\n      <td>4.0</td>\n      <td>4.0</td>\n      <td>{'$oid': '658549d997856a190701bd55'}</td>\n      <td>4.0</td>\n      <td>20948.0</td>\n      <td>4.0</td>\n      <td>4.0</td>\n    </tr>\n    <tr>\n      <th>51729</th>\n      <td>2007</td>\n      <td>32857</td>\n      <td>419</td>\n      <td>683.0</td>\n      <td>501.0</td>\n      <td>4.0</td>\n      <td>4.0</td>\n      <td>4.0</td>\n      <td>260000</td>\n      <td>660000</td>\n      <td>...</td>\n      <td>4.0</td>\n      <td>4.0</td>\n      <td>4.0</td>\n      <td>4.0</td>\n      <td>4.0</td>\n      <td>{'$oid': '658549e397856a190701bd56'}</td>\n      <td>4.0</td>\n      <td>20366.0</td>\n      <td>4.0</td>\n      <td>4.0</td>\n    </tr>\n    <tr>\n      <th>51730</th>\n      <td>2017</td>\n      <td>33234</td>\n      <td>403</td>\n      <td>683.0</td>\n      <td>504.0</td>\n      <td>4.0</td>\n      <td>4.0</td>\n      <td>4.0</td>\n      <td>280000</td>\n      <td>720000</td>\n      <td>...</td>\n      <td>4.0</td>\n      <td>4.0</td>\n      <td>4.0</td>\n      <td>4.0</td>\n      <td>4.0</td>\n      <td>{'$oid': '658549ec97856a190701bd57'}</td>\n      <td>4.0</td>\n      <td>21201.0</td>\n      <td>1.0</td>\n      <td>1.0</td>\n    </tr>\n    <tr>\n      <th>51731</th>\n      <td>2011</td>\n      <td>31266</td>\n      <td>407</td>\n      <td>626.0</td>\n      <td>508.0</td>\n      <td>4.0</td>\n      <td>4.0</td>\n      <td>3.0</td>\n      <td>170550</td>\n      <td>575000</td>\n      <td>...</td>\n      <td>4.0</td>\n      <td>4.0</td>\n      <td>2.0</td>\n      <td>2.0</td>\n      <td>2.0</td>\n      <td>{'$oid': '658549f697856a190701bd58'}</td>\n      <td>2.0</td>\n      <td>20801.0</td>\n      <td>4.0</td>\n      <td>4.0</td>\n    </tr>\n  </tbody>\n</table>\n<p>51732 rows × 24 columns</p>\n</div>"
     },
     "execution_count": 44,
     "metadata": {},
     "output_type": "execute_result"
    }
   ],
   "source": [
    "import pandas as pd;\n",
    "import matplotlib.pyplot as plt\n",
    "import numpy as np\n",
    "\n",
    "data = pd.read_csv(\"dataCarsv3.csv\", sep=';')\n",
    "data"
   ]
  },
  {
   "cell_type": "code",
   "outputs": [
    {
     "data": {
      "text/plain": "Yıl                  0\nModel                0\nRenk                 0\nBoya-değişen         0\nÇekiş                0\nArka Tampon          0\nSağ Ön Çamurluk      0\nSol Ön Çamurluk      0\nKilometre            0\nFiyat                0\nMarka                0\nYakıt Tipi           0\nVites Tipi           0\nKasa Tipi            0\nÖn Tampon            0\nArka Kaput           0\nSol Arka Kapı        0\nSol Ön Kapı          0\nSağ Ön Kapı          0\n_id                  0\nSağ Arka Kapı        0\nSeri                 0\nSağ Arka Çamurluk    0\nSol Arka Çamurluk    0\ndtype: int64"
     },
     "execution_count": 45,
     "metadata": {},
     "output_type": "execute_result"
    }
   ],
   "source": [
    "data.dropna(axis=0, inplace=True)\n",
    "data.isnull().sum()\n"
   ],
   "metadata": {
    "collapsed": false,
    "ExecuteTime": {
     "end_time": "2024-03-20T08:22:49.153886Z",
     "start_time": "2024-03-20T08:22:49.096538Z"
    }
   },
   "id": "c4656201592b9fd8",
   "execution_count": 45
  },
  {
   "cell_type": "code",
   "outputs": [],
   "source": [
    "data.to_csv(\"output_file.csv\", index=False)"
   ],
   "metadata": {
    "collapsed": false,
    "ExecuteTime": {
     "end_time": "2024-03-20T08:26:17.510485Z",
     "start_time": "2024-03-20T08:26:16.683874Z"
    }
   },
   "id": "c7cc1f78f911e0f8",
   "execution_count": 48
  },
  {
   "cell_type": "code",
   "outputs": [],
   "source": [],
   "metadata": {
    "collapsed": false
   },
   "id": "3f2a43b6d71d508f"
  }
 ],
 "metadata": {
  "kernelspec": {
   "display_name": "Python 3",
   "language": "python",
   "name": "python3"
  },
  "language_info": {
   "codemirror_mode": {
    "name": "ipython",
    "version": 2
   },
   "file_extension": ".py",
   "mimetype": "text/x-python",
   "name": "python",
   "nbconvert_exporter": "python",
   "pygments_lexer": "ipython2",
   "version": "2.7.6"
  }
 },
 "nbformat": 4,
 "nbformat_minor": 5
}
